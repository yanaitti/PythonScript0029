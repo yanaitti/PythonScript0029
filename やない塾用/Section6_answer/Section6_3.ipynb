{
 "cells": [
  {
   "cell_type": "markdown",
   "metadata": {},
   "source": [
    "# PART3 パラメータをチューニングしてみよう"
   ]
  },
  {
   "cell_type": "markdown",
   "metadata": {},
   "source": [
    "## おまじない"
   ]
  },
  {
   "cell_type": "code",
   "execution_count": 1,
   "metadata": {},
   "outputs": [],
   "source": [
    "import pandas as pd\n",
    "import numpy as np\n",
    "from matplotlib import pyplot as plt\n",
    "%matplotlib inline\n",
    "\n",
    "from sklearn.tree import DecisionTreeClassifier as DT\n",
    "from sklearn.model_selection import cross_validate\n",
    "from sklearn.model_selection import GridSearchCV"
   ]
  },
  {
   "cell_type": "markdown",
   "metadata": {},
   "source": [
    "## データの読み込み\n",
    "- train.csvとtest.csvとsubmit_sample.csvの３つのファイルを読み込みましょう\n",
    "- それぞれを読み込んだものは変数はtrain, test, sampleに代入しましょう"
   ]
  },
  {
   "cell_type": "code",
   "execution_count": 2,
   "metadata": {},
   "outputs": [],
   "source": [
    "train = pd.read_csv('train.csv')\n",
    "test = pd.read_csv('test.csv')\n",
    "sample = pd.read_csv('submit_sample.csv', header=None)"
   ]
  },
  {
   "cell_type": "markdown",
   "metadata": {},
   "source": [
    "## trainから説明変数となるデータを取り出しましょう\n",
    "- iloc[]を使います\n",
    "- y以外を説明変数として取り出し、変数trainXに代入しましょう"
   ]
  },
  {
   "cell_type": "code",
   "execution_count": 3,
   "metadata": {},
   "outputs": [
    {
     "data": {
      "text/html": [
       "<div>\n",
       "<style scoped>\n",
       "    .dataframe tbody tr th:only-of-type {\n",
       "        vertical-align: middle;\n",
       "    }\n",
       "\n",
       "    .dataframe tbody tr th {\n",
       "        vertical-align: top;\n",
       "    }\n",
       "\n",
       "    .dataframe thead th {\n",
       "        text-align: right;\n",
       "    }\n",
       "</style>\n",
       "<table border=\"1\" class=\"dataframe\">\n",
       "  <thead>\n",
       "    <tr style=\"text-align: right;\">\n",
       "      <th></th>\n",
       "      <th>id</th>\n",
       "      <th>age</th>\n",
       "      <th>job</th>\n",
       "      <th>marital</th>\n",
       "      <th>education</th>\n",
       "      <th>default</th>\n",
       "      <th>balance</th>\n",
       "      <th>housing</th>\n",
       "      <th>loan</th>\n",
       "      <th>contact</th>\n",
       "      <th>day</th>\n",
       "      <th>month</th>\n",
       "      <th>duration</th>\n",
       "      <th>campaign</th>\n",
       "      <th>pdays</th>\n",
       "      <th>previous</th>\n",
       "      <th>poutcome</th>\n",
       "    </tr>\n",
       "  </thead>\n",
       "  <tbody>\n",
       "    <tr>\n",
       "      <th>0</th>\n",
       "      <td>1</td>\n",
       "      <td>39</td>\n",
       "      <td>blue-collar</td>\n",
       "      <td>married</td>\n",
       "      <td>secondary</td>\n",
       "      <td>no</td>\n",
       "      <td>1756</td>\n",
       "      <td>yes</td>\n",
       "      <td>no</td>\n",
       "      <td>cellular</td>\n",
       "      <td>3</td>\n",
       "      <td>apr</td>\n",
       "      <td>939</td>\n",
       "      <td>1</td>\n",
       "      <td>-1</td>\n",
       "      <td>0</td>\n",
       "      <td>unknown</td>\n",
       "    </tr>\n",
       "    <tr>\n",
       "      <th>1</th>\n",
       "      <td>2</td>\n",
       "      <td>51</td>\n",
       "      <td>entrepreneur</td>\n",
       "      <td>married</td>\n",
       "      <td>primary</td>\n",
       "      <td>no</td>\n",
       "      <td>1443</td>\n",
       "      <td>no</td>\n",
       "      <td>no</td>\n",
       "      <td>cellular</td>\n",
       "      <td>18</td>\n",
       "      <td>feb</td>\n",
       "      <td>172</td>\n",
       "      <td>10</td>\n",
       "      <td>-1</td>\n",
       "      <td>0</td>\n",
       "      <td>unknown</td>\n",
       "    </tr>\n",
       "    <tr>\n",
       "      <th>2</th>\n",
       "      <td>3</td>\n",
       "      <td>36</td>\n",
       "      <td>management</td>\n",
       "      <td>single</td>\n",
       "      <td>tertiary</td>\n",
       "      <td>no</td>\n",
       "      <td>436</td>\n",
       "      <td>no</td>\n",
       "      <td>no</td>\n",
       "      <td>cellular</td>\n",
       "      <td>13</td>\n",
       "      <td>apr</td>\n",
       "      <td>567</td>\n",
       "      <td>1</td>\n",
       "      <td>595</td>\n",
       "      <td>2</td>\n",
       "      <td>failure</td>\n",
       "    </tr>\n",
       "    <tr>\n",
       "      <th>3</th>\n",
       "      <td>4</td>\n",
       "      <td>63</td>\n",
       "      <td>retired</td>\n",
       "      <td>married</td>\n",
       "      <td>secondary</td>\n",
       "      <td>no</td>\n",
       "      <td>474</td>\n",
       "      <td>no</td>\n",
       "      <td>no</td>\n",
       "      <td>cellular</td>\n",
       "      <td>25</td>\n",
       "      <td>jan</td>\n",
       "      <td>423</td>\n",
       "      <td>1</td>\n",
       "      <td>-1</td>\n",
       "      <td>0</td>\n",
       "      <td>unknown</td>\n",
       "    </tr>\n",
       "    <tr>\n",
       "      <th>4</th>\n",
       "      <td>5</td>\n",
       "      <td>31</td>\n",
       "      <td>management</td>\n",
       "      <td>single</td>\n",
       "      <td>tertiary</td>\n",
       "      <td>no</td>\n",
       "      <td>354</td>\n",
       "      <td>no</td>\n",
       "      <td>no</td>\n",
       "      <td>cellular</td>\n",
       "      <td>30</td>\n",
       "      <td>apr</td>\n",
       "      <td>502</td>\n",
       "      <td>1</td>\n",
       "      <td>9</td>\n",
       "      <td>2</td>\n",
       "      <td>success</td>\n",
       "    </tr>\n",
       "    <tr>\n",
       "      <th>...</th>\n",
       "      <td>...</td>\n",
       "      <td>...</td>\n",
       "      <td>...</td>\n",
       "      <td>...</td>\n",
       "      <td>...</td>\n",
       "      <td>...</td>\n",
       "      <td>...</td>\n",
       "      <td>...</td>\n",
       "      <td>...</td>\n",
       "      <td>...</td>\n",
       "      <td>...</td>\n",
       "      <td>...</td>\n",
       "      <td>...</td>\n",
       "      <td>...</td>\n",
       "      <td>...</td>\n",
       "      <td>...</td>\n",
       "      <td>...</td>\n",
       "    </tr>\n",
       "    <tr>\n",
       "      <th>27123</th>\n",
       "      <td>27124</td>\n",
       "      <td>42</td>\n",
       "      <td>blue-collar</td>\n",
       "      <td>married</td>\n",
       "      <td>primary</td>\n",
       "      <td>no</td>\n",
       "      <td>1455</td>\n",
       "      <td>yes</td>\n",
       "      <td>no</td>\n",
       "      <td>cellular</td>\n",
       "      <td>2</td>\n",
       "      <td>feb</td>\n",
       "      <td>279</td>\n",
       "      <td>2</td>\n",
       "      <td>269</td>\n",
       "      <td>2</td>\n",
       "      <td>other</td>\n",
       "    </tr>\n",
       "    <tr>\n",
       "      <th>27124</th>\n",
       "      <td>27125</td>\n",
       "      <td>34</td>\n",
       "      <td>services</td>\n",
       "      <td>single</td>\n",
       "      <td>secondary</td>\n",
       "      <td>no</td>\n",
       "      <td>719</td>\n",
       "      <td>yes</td>\n",
       "      <td>no</td>\n",
       "      <td>unknown</td>\n",
       "      <td>15</td>\n",
       "      <td>may</td>\n",
       "      <td>362</td>\n",
       "      <td>3</td>\n",
       "      <td>-1</td>\n",
       "      <td>0</td>\n",
       "      <td>unknown</td>\n",
       "    </tr>\n",
       "    <tr>\n",
       "      <th>27125</th>\n",
       "      <td>27126</td>\n",
       "      <td>36</td>\n",
       "      <td>blue-collar</td>\n",
       "      <td>single</td>\n",
       "      <td>primary</td>\n",
       "      <td>no</td>\n",
       "      <td>49</td>\n",
       "      <td>yes</td>\n",
       "      <td>no</td>\n",
       "      <td>unknown</td>\n",
       "      <td>8</td>\n",
       "      <td>may</td>\n",
       "      <td>405</td>\n",
       "      <td>1</td>\n",
       "      <td>-1</td>\n",
       "      <td>0</td>\n",
       "      <td>unknown</td>\n",
       "    </tr>\n",
       "    <tr>\n",
       "      <th>27126</th>\n",
       "      <td>27127</td>\n",
       "      <td>33</td>\n",
       "      <td>housemaid</td>\n",
       "      <td>married</td>\n",
       "      <td>primary</td>\n",
       "      <td>no</td>\n",
       "      <td>209</td>\n",
       "      <td>no</td>\n",
       "      <td>no</td>\n",
       "      <td>cellular</td>\n",
       "      <td>12</td>\n",
       "      <td>aug</td>\n",
       "      <td>76</td>\n",
       "      <td>4</td>\n",
       "      <td>-1</td>\n",
       "      <td>0</td>\n",
       "      <td>unknown</td>\n",
       "    </tr>\n",
       "    <tr>\n",
       "      <th>27127</th>\n",
       "      <td>27128</td>\n",
       "      <td>29</td>\n",
       "      <td>services</td>\n",
       "      <td>single</td>\n",
       "      <td>secondary</td>\n",
       "      <td>no</td>\n",
       "      <td>40</td>\n",
       "      <td>yes</td>\n",
       "      <td>no</td>\n",
       "      <td>cellular</td>\n",
       "      <td>18</td>\n",
       "      <td>may</td>\n",
       "      <td>105</td>\n",
       "      <td>1</td>\n",
       "      <td>355</td>\n",
       "      <td>2</td>\n",
       "      <td>failure</td>\n",
       "    </tr>\n",
       "  </tbody>\n",
       "</table>\n",
       "<p>27128 rows × 17 columns</p>\n",
       "</div>"
      ],
      "text/plain": [
       "          id  age           job  marital  education default  balance housing  \\\n",
       "0          1   39   blue-collar  married  secondary      no     1756     yes   \n",
       "1          2   51  entrepreneur  married    primary      no     1443      no   \n",
       "2          3   36    management   single   tertiary      no      436      no   \n",
       "3          4   63       retired  married  secondary      no      474      no   \n",
       "4          5   31    management   single   tertiary      no      354      no   \n",
       "...      ...  ...           ...      ...        ...     ...      ...     ...   \n",
       "27123  27124   42   blue-collar  married    primary      no     1455     yes   \n",
       "27124  27125   34      services   single  secondary      no      719     yes   \n",
       "27125  27126   36   blue-collar   single    primary      no       49     yes   \n",
       "27126  27127   33     housemaid  married    primary      no      209      no   \n",
       "27127  27128   29      services   single  secondary      no       40     yes   \n",
       "\n",
       "      loan   contact  day month  duration  campaign  pdays  previous poutcome  \n",
       "0       no  cellular    3   apr       939         1     -1         0  unknown  \n",
       "1       no  cellular   18   feb       172        10     -1         0  unknown  \n",
       "2       no  cellular   13   apr       567         1    595         2  failure  \n",
       "3       no  cellular   25   jan       423         1     -1         0  unknown  \n",
       "4       no  cellular   30   apr       502         1      9         2  success  \n",
       "...    ...       ...  ...   ...       ...       ...    ...       ...      ...  \n",
       "27123   no  cellular    2   feb       279         2    269         2    other  \n",
       "27124   no   unknown   15   may       362         3     -1         0  unknown  \n",
       "27125   no   unknown    8   may       405         1     -1         0  unknown  \n",
       "27126   no  cellular   12   aug        76         4     -1         0  unknown  \n",
       "27127   no  cellular   18   may       105         1    355         2  failure  \n",
       "\n",
       "[27128 rows x 17 columns]"
      ]
     },
     "execution_count": 3,
     "metadata": {},
     "output_type": "execute_result"
    }
   ],
   "source": [
    "trainX = train.iloc[:, 0:17]\n",
    "trainX"
   ]
  },
  {
   "cell_type": "markdown",
   "metadata": {},
   "source": [
    "## trainから目的変数となるデータを取り出しましょう\n",
    "- yを選択し、変数yに代入しましょう"
   ]
  },
  {
   "cell_type": "code",
   "execution_count": 4,
   "metadata": {},
   "outputs": [],
   "source": [
    "y = train['y']"
   ]
  },
  {
   "cell_type": "markdown",
   "metadata": {},
   "source": [
    "## testから説明変数となるデータを取り出しましょう\n",
    "- testの全てのカラムが説明変数となりますので、copy関数を使って変数testXに代入します"
   ]
  },
  {
   "cell_type": "code",
   "execution_count": 5,
   "metadata": {},
   "outputs": [],
   "source": [
    "testX = test.copy()"
   ]
  },
  {
   "cell_type": "markdown",
   "metadata": {},
   "source": [
    "## trainXとtestXをダミー変数化しましょう"
   ]
  },
  {
   "cell_type": "code",
   "execution_count": 6,
   "metadata": {},
   "outputs": [],
   "source": [
    "trainX = pd.get_dummies(trainX)\n",
    "testX = pd.get_dummies(testX)"
   ]
  },
  {
   "cell_type": "markdown",
   "metadata": {},
   "source": [
    "## 決定木モデルの箱を用意しましょう\n",
    "- 変数名をclf1とし、DT()を代入しましょう\n",
    "- パラメータは一旦、max_depth=2, min_samples_leaf=500としましょう"
   ]
  },
  {
   "cell_type": "code",
   "execution_count": 7,
   "metadata": {},
   "outputs": [],
   "source": [
    "clf1 = DT(max_depth=2, min_samples_leaf=500)"
   ]
  },
  {
   "cell_type": "markdown",
   "metadata": {},
   "source": [
    "## クロスバリデーションをしてclf1の精度を確かめてみましょう\n",
    "- cross_validate関数を使います\n",
    "- オプションには、clf1, trainX, y, cv=5, scoring=\"roc_auc\",n_jobs=-1と書きます"
   ]
  },
  {
   "cell_type": "code",
   "execution_count": 8,
   "metadata": {},
   "outputs": [
    {
     "data": {
      "text/plain": [
       "{'fit_time': array([0.05983782, 0.06282783, 0.06482697, 0.04787254, 0.05484653]),\n",
       " 'score_time': array([0.00598383, 0.00697923, 0.00998211, 0.00698209, 0.00797868]),\n",
       " 'test_score': array([0.74657601, 0.76182968, 0.73117591, 0.73707281, 0.75910043]),\n",
       " 'train_score': array([0.74534692, 0.74543889, 0.75305367, 0.75162494, 0.746135  ])}"
      ]
     },
     "execution_count": 8,
     "metadata": {},
     "output_type": "execute_result"
    }
   ],
   "source": [
    "cross_validate(clf1, trainX, y, cv=5, scoring=\"roc_auc\", n_jobs=-1, return_train_score=True)"
   ]
  },
  {
   "cell_type": "markdown",
   "metadata": {},
   "source": [
    "## 異なるパラメータでもう一度決定木の箱を準備しましょう\n",
    "- 変数はclf2としましょう\n",
    "- パラメータはmax_depth=10, min_samples_leaf=500としましょう"
   ]
  },
  {
   "cell_type": "code",
   "execution_count": 9,
   "metadata": {},
   "outputs": [],
   "source": [
    "clf2 = DT(max_depth=10, min_samples_leaf=500)"
   ]
  },
  {
   "cell_type": "markdown",
   "metadata": {},
   "source": [
    "## クロスバリデーションをしてclf2の精度を確かめてみましょう"
   ]
  },
  {
   "cell_type": "code",
   "execution_count": 10,
   "metadata": {},
   "outputs": [
    {
     "data": {
      "text/plain": [
       "{'fit_time': array([0.14561105, 0.10773063, 0.14162135, 0.14062524, 0.14062071]),\n",
       " 'score_time': array([0.00598454, 0.0039711 , 0.0069809 , 0.00597787, 0.00598454]),\n",
       " 'test_score': array([0.88264002, 0.88482571, 0.86778474, 0.8924153 , 0.88343681]),\n",
       " 'train_score': array([0.88842017, 0.89038512, 0.89288003, 0.8876343 , 0.885615  ])}"
      ]
     },
     "execution_count": 10,
     "metadata": {},
     "output_type": "execute_result"
    }
   ],
   "source": [
    "cross_validate(clf2, trainX, y, cv=5, scoring=\"roc_auc\", n_jobs=-1, return_train_score=True)"
   ]
  },
  {
   "cell_type": "markdown",
   "metadata": {},
   "source": [
    "## 新たな決定木モデルの箱を準備しましょう\n",
    "- 変数clf3とし、今回は特にパラメータはセットしません"
   ]
  },
  {
   "cell_type": "code",
   "execution_count": 11,
   "metadata": {},
   "outputs": [],
   "source": [
    "clf3 = DT()"
   ]
  },
  {
   "cell_type": "markdown",
   "metadata": {},
   "source": [
    "## グリッドサーチを試してみましょう\n",
    "- パラメータの範囲を指定し、その範囲をしらみつぶしに調べることで、最適なパラメータを探索することをグリッドサーチといいます\n",
    "- グリッドサーチ＋クロスバリデーションの組み合わせは良くパラメータ探索の方法として利用されます\n",
    "- まず探索するパラメータの範囲を表す変数parametersを作ります\n",
    "- この変数を作る時、\"カギ\"括弧ではなく、\"波\"括弧であることに注意して下さい\n",
    "- {\"パラメータの名前①\":[範囲], \"パラメータの名前②\":[範囲]...}のように書きます\n",
    "- 今回はmax_depthを2から10まで探索してみます"
   ]
  },
  {
   "cell_type": "code",
   "execution_count": 12,
   "metadata": {},
   "outputs": [],
   "source": [
    "parameters = {\"max_depth\":[2,3,4,5,6,7,8,9,10]}"
   ]
  },
  {
   "cell_type": "code",
   "execution_count": 13,
   "metadata": {},
   "outputs": [],
   "source": [
    "parameters = {\"max_depth\": list(range(2,11))}"
   ]
  },
  {
   "cell_type": "code",
   "execution_count": 14,
   "metadata": {},
   "outputs": [
    {
     "data": {
      "text/plain": [
       "{'max_depth': [2, 3, 4, 5, 6, 7, 8, 9, 10]}"
      ]
     },
     "execution_count": 14,
     "metadata": {},
     "output_type": "execute_result"
    }
   ],
   "source": [
    "parameters"
   ]
  },
  {
   "cell_type": "code",
   "execution_count": null,
   "metadata": {},
   "outputs": [],
   "source": []
  },
  {
   "cell_type": "markdown",
   "metadata": {},
   "source": [
    "## グリッドサーチ+クロスバリデーションで最適なパラメータを探してみましょう"
   ]
  },
  {
   "cell_type": "markdown",
   "metadata": {},
   "source": [
    "- GridSearchCV関数を使います\n",
    "- オプションとして、clf3, parameters, cv=5, scoring=\"roc_auc\",n_jobs=-1と書きます\n",
    "- グリッドサーチの結果は、変数gcvに代入しましょう\n",
    "- その後、fit関数を使って、探索をしましょう"
   ]
  },
  {
   "cell_type": "code",
   "execution_count": 15,
   "metadata": {},
   "outputs": [
    {
     "data": {
      "text/plain": [
       "GridSearchCV(cv=5, error_score=nan,\n",
       "             estimator=DecisionTreeClassifier(ccp_alpha=0.0, class_weight=None,\n",
       "                                              criterion='gini', max_depth=None,\n",
       "                                              max_features=None,\n",
       "                                              max_leaf_nodes=None,\n",
       "                                              min_impurity_decrease=0.0,\n",
       "                                              min_impurity_split=None,\n",
       "                                              min_samples_leaf=1,\n",
       "                                              min_samples_split=2,\n",
       "                                              min_weight_fraction_leaf=0.0,\n",
       "                                              presort='deprecated',\n",
       "                                              random_state=None,\n",
       "                                              splitter='best'),\n",
       "             iid='deprecated', n_jobs=-1,\n",
       "             param_grid={'max_depth': [2, 3, 4, 5, 6, 7, 8, 9, 10]},\n",
       "             pre_dispatch='2*n_jobs', refit=True, return_train_score=True,\n",
       "             scoring='roc_auc', verbose=0)"
      ]
     },
     "execution_count": 15,
     "metadata": {},
     "output_type": "execute_result"
    }
   ],
   "source": [
    "gcv = GridSearchCV(clf3, parameters, cv=5, scoring=\"roc_auc\", n_jobs=-1, return_train_score=True)\n",
    "gcv.fit(trainX, y)"
   ]
  },
  {
   "cell_type": "markdown",
   "metadata": {},
   "source": [
    "## グリッドサーチの結果を見てみましょう\n",
    "- cv_____results_で結果を見る事が出来ます"
   ]
  },
  {
   "cell_type": "code",
   "execution_count": 16,
   "metadata": {},
   "outputs": [
    {
     "data": {
      "text/plain": [
       "{'mean_fit_time': array([0.07500052, 0.11409478, 0.14301643, 0.15897431, 0.17353463,\n",
       "        0.19707279, 0.23497124, 0.24414606, 0.23338051]),\n",
       " 'std_fit_time': array([0.01607308, 0.02034746, 0.01568802, 0.03370127, 0.01615576,\n",
       "        0.01831995, 0.01830917, 0.01402642, 0.01160653]),\n",
       " 'mean_score_time': array([0.00897593, 0.0073801 , 0.0245358 , 0.00718141, 0.00658231,\n",
       "        0.00738034, 0.00718055, 0.00658221, 0.00578442]),\n",
       " 'std_score_time': array([0.00109328, 0.00101606, 0.02543162, 0.00097684, 0.00048817,\n",
       "        0.00101764, 0.00039859, 0.00048877, 0.00074646]),\n",
       " 'param_max_depth': masked_array(data=[2, 3, 4, 5, 6, 7, 8, 9, 10],\n",
       "              mask=[False, False, False, False, False, False, False, False,\n",
       "                    False],\n",
       "        fill_value='?',\n",
       "             dtype=object),\n",
       " 'params': [{'max_depth': 2},\n",
       "  {'max_depth': 3},\n",
       "  {'max_depth': 4},\n",
       "  {'max_depth': 5},\n",
       "  {'max_depth': 6},\n",
       "  {'max_depth': 7},\n",
       "  {'max_depth': 8},\n",
       "  {'max_depth': 9},\n",
       "  {'max_depth': 10}],\n",
       " 'split0_test_score': array([0.74657601, 0.82360265, 0.73033016, 0.74058989, 0.74368476,\n",
       "        0.71818732, 0.73441591, 0.72218974, 0.69875735]),\n",
       " 'split1_test_score': array([0.76182968, 0.82214585, 0.843183  , 0.85330188, 0.8581604 ,\n",
       "        0.85361283, 0.85843601, 0.8552984 , 0.84193345]),\n",
       " 'split2_test_score': array([0.73117591, 0.8075016 , 0.83351987, 0.84179917, 0.83836869,\n",
       "        0.84705016, 0.83545263, 0.82734359, 0.80727036]),\n",
       " 'split3_test_score': array([0.73707281, 0.75196604, 0.80556935, 0.81563658, 0.82971726,\n",
       "        0.85066395, 0.85016438, 0.84432052, 0.82599707]),\n",
       " 'split4_test_score': array([0.75910043, 0.83206798, 0.85796137, 0.86203561, 0.86213026,\n",
       "        0.84627147, 0.82969168, 0.73005296, 0.71899352]),\n",
       " 'mean_test_score': array([0.74715097, 0.80745683, 0.81411275, 0.82267263, 0.82641227,\n",
       "        0.82315714, 0.82163212, 0.79584104, 0.77859035]),\n",
       " 'std_test_score': array([0.01196124, 0.02884924, 0.04524805, 0.04391014, 0.04308466,\n",
       "        0.0525509 , 0.04479118, 0.05767224, 0.05832217]),\n",
       " 'rank_test_score': array([9, 6, 5, 3, 1, 2, 4, 7, 8]),\n",
       " 'split0_train_score': array([0.74534692, 0.82168836, 0.84726425, 0.85815618, 0.86983919,\n",
       "        0.88435788, 0.90048061, 0.91359124, 0.92621676]),\n",
       " 'split1_train_score': array([0.74543889, 0.82283293, 0.84962306, 0.86363422, 0.8742587 ,\n",
       "        0.88433893, 0.89732707, 0.90808259, 0.92259033]),\n",
       " 'split2_train_score': array([0.75305367, 0.82675277, 0.85308818, 0.86694448, 0.87728653,\n",
       "        0.89265157, 0.90374865, 0.91449253, 0.92669715]),\n",
       " 'split3_train_score': array([0.75162494, 0.77022786, 0.82376143, 0.83735619, 0.8541277 ,\n",
       "        0.88438751, 0.89785886, 0.90789368, 0.92047438]),\n",
       " 'split4_train_score': array([0.746135  , 0.8207291 , 0.84693949, 0.86020065, 0.87072476,\n",
       "        0.88435379, 0.89536535, 0.90741385, 0.92475052]),\n",
       " 'mean_train_score': array([0.74831988, 0.8124462 , 0.84413528, 0.85725834, 0.86924738,\n",
       "        0.88601794, 0.89895611, 0.91029478, 0.92414583]),\n",
       " 'std_train_score': array([0.00332399, 0.02120837, 0.01042131, 0.01039261, 0.00801098,\n",
       "        0.00331686, 0.00289979, 0.00308047, 0.00232649])}"
      ]
     },
     "execution_count": 16,
     "metadata": {},
     "output_type": "execute_result"
    }
   ],
   "source": [
    "gcv.cv_results_"
   ]
  },
  {
   "cell_type": "markdown",
   "metadata": {},
   "source": [
    "## cv_____results_の中で重要な２つをみてみましょう\n",
    "- cv_____results_[\"mean_train_score\"]とcv_____results_[\"mean_test_score\"]です\n",
    "- それぞれ変数train_scoreとtest_scoreに代入しましょう"
   ]
  },
  {
   "cell_type": "code",
   "execution_count": 17,
   "metadata": {},
   "outputs": [],
   "source": [
    "train_score = gcv.cv_results_['mean_train_score']\n",
    "test_score = gcv.cv_results_['mean_test_score']"
   ]
  },
  {
   "cell_type": "code",
   "execution_count": 18,
   "metadata": {},
   "outputs": [
    {
     "data": {
      "text/plain": [
       "array([0.74831988, 0.8124462 , 0.84413528, 0.85725834, 0.86924738,\n",
       "       0.88601794, 0.89895611, 0.91029478, 0.92414583])"
      ]
     },
     "execution_count": 18,
     "metadata": {},
     "output_type": "execute_result"
    }
   ],
   "source": [
    "train_score"
   ]
  },
  {
   "cell_type": "markdown",
   "metadata": {},
   "source": [
    "## train_scoreとtest_scoreを可視化しましょう\n",
    "- x軸をmax_depth、y軸をaucとしてグラフを描きます\n",
    "- 何も設定しないとx軸は0からスタートとなり、実際の値とずれてしまうので、調整が必要です\n",
    "- 調整をする為には、plt.xticks([0,1],[2,3])のように書きます\n",
    "- 上記のオプションの意味は何もしない時に0のものを2とし、1のものを3とする、という意味になります\n",
    "- 今回はmax_depthを2～10まで調べたので9点あります"
   ]
  },
  {
   "cell_type": "code",
   "execution_count": 19,
   "metadata": {},
   "outputs": [
    {
     "data": {
      "text/plain": [
       "([<matplotlib.axis.XTick at 0x297da46c688>,\n",
       "  <matplotlib.axis.XTick at 0x297da452688>,\n",
       "  <matplotlib.axis.XTick at 0x297da459788>,\n",
       "  <matplotlib.axis.XTick at 0x297da53c788>,\n",
       "  <matplotlib.axis.XTick at 0x297da540088>,\n",
       "  <matplotlib.axis.XTick at 0x297da540888>,\n",
       "  <matplotlib.axis.XTick at 0x297da545388>,\n",
       "  <matplotlib.axis.XTick at 0x297da545e48>,\n",
       "  <matplotlib.axis.XTick at 0x297da528d88>,\n",
       "  <matplotlib.axis.XTick at 0x297da5499c8>],\n",
       " <a list of 9 Text xticklabel objects>)"
      ]
     },
     "execution_count": 19,
     "metadata": {},
     "output_type": "execute_result"
    },
    {
     "data": {
      "image/png": "[encoded data removed]",
      "text/plain": [
       "<Figure size 432x288 with 1 Axes>"
      ]
     },
     "metadata": {
      "needs_background": "light"
     },
     "output_type": "display_data"
    }
   ],
   "source": [
    "plt.plot(train_score)\n",
    "plt.plot(test_score)\n",
    "plt.xticks(list(range(0, 10)), list(range(2, 11)))"
   ]
  },
  {
   "cell_type": "markdown",
   "metadata": {},
   "source": [
    "## グリッドサーチで選ばれたパラメータを確認しましょう\n",
    "- best_____params_で結果を見ることができます"
   ]
  },
  {
   "cell_type": "code",
   "execution_count": 20,
   "metadata": {},
   "outputs": [
    {
     "data": {
      "text/plain": [
       "{'max_depth': 6}"
      ]
     },
     "execution_count": 20,
     "metadata": {},
     "output_type": "execute_result"
    }
   ],
   "source": [
    "gcv.best_params_"
   ]
  },
  {
   "cell_type": "markdown",
   "metadata": {},
   "source": [
    "## testの予測しましょう\n",
    "- gcvもpredict_proba関数を持っており、自動的に最適なパラメータを使ったモデルで予測がされます\n",
    "- 予測結果はpredに代入しましょう。その後、1の確率のみを取り出して、再びpredに代入しましょう"
   ]
  },
  {
   "cell_type": "code",
   "execution_count": 21,
   "metadata": {},
   "outputs": [],
   "source": [
    "pred = gcv.predict_proba(testX)"
   ]
  },
  {
   "cell_type": "code",
   "execution_count": 22,
   "metadata": {},
   "outputs": [],
   "source": [
    "pred = pred[:,1]"
   ]
  },
  {
   "cell_type": "markdown",
   "metadata": {},
   "source": [
    "## predをsample[1]に代入してファイル出力し、DeepAnalyticsへ投稿しましょう\n",
    "- ファイル名は「submit3_bank.csv」としましょう\n",
    "- index=None,header=Noneのオプションを忘れないように書きだしましょう"
   ]
  },
  {
   "cell_type": "code",
   "execution_count": 23,
   "metadata": {},
   "outputs": [],
   "source": [
    "sample[1] = pred\n",
    "sample.to_csv('submit3_bank.csv', index=None, header=None)"
   ]
  },
  {
   "cell_type": "markdown",
   "metadata": {},
   "source": [
    "# 実習"
   ]
  },
  {
   "cell_type": "markdown",
   "metadata": {},
   "source": [
    "1.新たな決定木モデルの箱を変数clf4として準備してみよう。パラメータの設定は不要です"
   ]
  },
  {
   "cell_type": "code",
   "execution_count": 24,
   "metadata": {},
   "outputs": [],
   "source": [
    "clf4 = DT()"
   ]
  },
  {
   "cell_type": "markdown",
   "metadata": {},
   "source": [
    "2.max_depthとmin_samples_leafの値の範囲を指定した変数parameters2を作ろう\n",
    "- max_depthは2～10まで、min_samples_leafは[5,10,20,50,100,500]にしましょう"
   ]
  },
  {
   "cell_type": "code",
   "execution_count": 25,
   "metadata": {},
   "outputs": [],
   "source": [
    "parameters2 = {\"max_depth\": list(range(2,11)), \"min_samples_leaf\": [5,10,20,50,100,500]}"
   ]
  },
  {
   "cell_type": "markdown",
   "metadata": {},
   "source": [
    "3.グリッドサーチ+クロスバリデーションで最適なパラメータを探そう。グリッドサーチの結果は変数gcv2に代入しよう"
   ]
  },
  {
   "cell_type": "code",
   "execution_count": 26,
   "metadata": {},
   "outputs": [
    {
     "data": {
      "text/plain": [
       "GridSearchCV(cv=5, error_score=nan,\n",
       "             estimator=DecisionTreeClassifier(ccp_alpha=0.0, class_weight=None,\n",
       "                                              criterion='gini', max_depth=None,\n",
       "                                              max_features=None,\n",
       "                                              max_leaf_nodes=None,\n",
       "                                              min_impurity_decrease=0.0,\n",
       "                                              min_impurity_split=None,\n",
       "                                              min_samples_leaf=1,\n",
       "                                              min_samples_split=2,\n",
       "                                              min_weight_fraction_leaf=0.0,\n",
       "                                              presort='deprecated',\n",
       "                                              random_state=None,\n",
       "                                              splitter='best'),\n",
       "             iid='deprecated', n_jobs=-1,\n",
       "             param_grid={'max_depth': [2, 3, 4, 5, 6, 7, 8, 9, 10],\n",
       "                         'min_samples_leaf': [5, 10, 20, 50, 100, 500]},\n",
       "             pre_dispatch='2*n_jobs', refit=True, return_train_score=True,\n",
       "             scoring='roc_auc', verbose=0)"
      ]
     },
     "execution_count": 26,
     "metadata": {},
     "output_type": "execute_result"
    }
   ],
   "source": [
    "gcv2 = GridSearchCV(clf4, parameters2, cv=5, scoring=\"roc_auc\", n_jobs=-1, return_train_score=True)\n",
    "gcv2.fit(trainX, y)"
   ]
  },
  {
   "cell_type": "markdown",
   "metadata": {},
   "source": [
    "4.最適なパラメータはなんだったか確かめてみよう"
   ]
  },
  {
   "cell_type": "code",
   "execution_count": 27,
   "metadata": {},
   "outputs": [
    {
     "data": {
      "text/plain": [
       "{'max_depth': 10, 'min_samples_leaf': 50}"
      ]
     },
     "execution_count": 27,
     "metadata": {},
     "output_type": "execute_result"
    }
   ],
   "source": [
    "gcv2.best_params_"
   ]
  },
  {
   "cell_type": "markdown",
   "metadata": {},
   "source": [
    "5.testの予測をし、予測結果のうち、１となる確率のみを変数pred2に代入しよう"
   ]
  },
  {
   "cell_type": "code",
   "execution_count": 28,
   "metadata": {},
   "outputs": [],
   "source": [
    "pred2 = gcv2.predict_proba(testX)"
   ]
  },
  {
   "cell_type": "code",
   "execution_count": 29,
   "metadata": {},
   "outputs": [],
   "source": [
    "pred2 = pred2[:,1]"
   ]
  },
  {
   "cell_type": "markdown",
   "metadata": {},
   "source": [
    "6.pred2をsample[1]に代入して\"submit4_bank.csv\"としてファイル出力し、DeepAnalyticsへ投稿しよう"
   ]
  },
  {
   "cell_type": "code",
   "execution_count": 30,
   "metadata": {},
   "outputs": [],
   "source": [
    "sample[1] = pred2\n",
    "sample.to_csv('submit4_bank.csv', index=None, header=None)"
   ]
  },
  {
   "cell_type": "code",
   "execution_count": null,
   "metadata": {},
   "outputs": [],
   "source": []
  }
 ],
 "metadata": {
  "kernelspec": {
   "display_name": "Python 3",
   "language": "python",
   "name": "python3"
  },
  "language_info": {
   "codemirror_mode": {
    "name": "ipython",
    "version": 3
   },
   "file_extension": ".py",
   "mimetype": "text/x-python",
   "name": "python",
   "nbconvert_exporter": "python",
   "pygments_lexer": "ipython3",
   "version": "3.7.6"
  }
 },
 "nbformat": 4,
 "nbformat_minor": 2
}
