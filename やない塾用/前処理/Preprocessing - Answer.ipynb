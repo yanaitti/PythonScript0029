{
 "cells": [
  {
   "cell_type": "markdown",
   "metadata": {},
   "source": [
    "Preprocessing(前処理)\n",
    "- 基礎統計量\n",
    "- 欠損値: isnull(), fillna(), impute\n",
    "- 散布図\n",
    "- ヒストグラム\n",
    "- カテゴリカル処理\n",
    " - One Hot Encoder / pd.get_dummies\n",
    " - Label Encoder\n",
    "- ビニング: 間隔設定\n",
    "- 日付加工\n",
    "\n",
    "ここでは上記において、前処理を学習します<br/>\n",
    "data: https://signate.jp/competitions/102/data"
   ]
  },
  {
   "cell_type": "markdown",
   "metadata": {},
   "source": [
    "# Preprocessing(前処理)"
   ]
  },
  {
   "cell_type": "markdown",
   "metadata": {},
   "source": [
    "まずはデータを読み込みましょう<br/>\n",
    "pandas, numpy, matplotlibをImport"
   ]
  },
  {
   "cell_type": "code",
   "execution_count": 1,
   "metadata": {},
   "outputs": [],
   "source": [
    "import pandas as pd\n",
    "import numpy as np\n",
    "from matplotlib import pyplot as plt\n",
    "%matplotlib inline"
   ]
  },
  {
   "cell_type": "code",
   "execution_count": 2,
   "metadata": {},
   "outputs": [],
   "source": [
    "train = pd.read_csv('train.tsv', sep='\\t')"
   ]
  },
  {
   "cell_type": "code",
   "execution_count": 3,
   "metadata": {},
   "outputs": [
    {
     "data": {
      "text/html": [
       "<div>\n",
       "<style scoped>\n",
       "    .dataframe tbody tr th:only-of-type {\n",
       "        vertical-align: middle;\n",
       "    }\n",
       "\n",
       "    .dataframe tbody tr th {\n",
       "        vertical-align: top;\n",
       "    }\n",
       "\n",
       "    .dataframe thead th {\n",
       "        text-align: right;\n",
       "    }\n",
       "</style>\n",
       "<table border=\"1\" class=\"dataframe\">\n",
       "  <thead>\n",
       "    <tr style=\"text-align: right;\">\n",
       "      <th></th>\n",
       "      <th>id</th>\n",
       "      <th>survived</th>\n",
       "      <th>pclass</th>\n",
       "      <th>sex</th>\n",
       "      <th>age</th>\n",
       "      <th>sibsp</th>\n",
       "      <th>parch</th>\n",
       "      <th>fare</th>\n",
       "      <th>embarked</th>\n",
       "    </tr>\n",
       "  </thead>\n",
       "  <tbody>\n",
       "    <tr>\n",
       "      <th>0</th>\n",
       "      <td>3</td>\n",
       "      <td>1</td>\n",
       "      <td>1</td>\n",
       "      <td>female</td>\n",
       "      <td>35.0</td>\n",
       "      <td>1</td>\n",
       "      <td>0</td>\n",
       "      <td>53.1000</td>\n",
       "      <td>S</td>\n",
       "    </tr>\n",
       "    <tr>\n",
       "      <th>1</th>\n",
       "      <td>4</td>\n",
       "      <td>0</td>\n",
       "      <td>3</td>\n",
       "      <td>male</td>\n",
       "      <td>35.0</td>\n",
       "      <td>0</td>\n",
       "      <td>0</td>\n",
       "      <td>8.0500</td>\n",
       "      <td>S</td>\n",
       "    </tr>\n",
       "    <tr>\n",
       "      <th>2</th>\n",
       "      <td>7</td>\n",
       "      <td>0</td>\n",
       "      <td>3</td>\n",
       "      <td>male</td>\n",
       "      <td>2.0</td>\n",
       "      <td>3</td>\n",
       "      <td>1</td>\n",
       "      <td>21.0750</td>\n",
       "      <td>S</td>\n",
       "    </tr>\n",
       "    <tr>\n",
       "      <th>3</th>\n",
       "      <td>9</td>\n",
       "      <td>1</td>\n",
       "      <td>2</td>\n",
       "      <td>female</td>\n",
       "      <td>14.0</td>\n",
       "      <td>1</td>\n",
       "      <td>0</td>\n",
       "      <td>30.0708</td>\n",
       "      <td>C</td>\n",
       "    </tr>\n",
       "    <tr>\n",
       "      <th>4</th>\n",
       "      <td>11</td>\n",
       "      <td>1</td>\n",
       "      <td>1</td>\n",
       "      <td>female</td>\n",
       "      <td>58.0</td>\n",
       "      <td>0</td>\n",
       "      <td>0</td>\n",
       "      <td>26.5500</td>\n",
       "      <td>S</td>\n",
       "    </tr>\n",
       "    <tr>\n",
       "      <th>...</th>\n",
       "      <td>...</td>\n",
       "      <td>...</td>\n",
       "      <td>...</td>\n",
       "      <td>...</td>\n",
       "      <td>...</td>\n",
       "      <td>...</td>\n",
       "      <td>...</td>\n",
       "      <td>...</td>\n",
       "      <td>...</td>\n",
       "    </tr>\n",
       "    <tr>\n",
       "      <th>440</th>\n",
       "      <td>873</td>\n",
       "      <td>0</td>\n",
       "      <td>3</td>\n",
       "      <td>male</td>\n",
       "      <td>47.0</td>\n",
       "      <td>0</td>\n",
       "      <td>0</td>\n",
       "      <td>9.0000</td>\n",
       "      <td>S</td>\n",
       "    </tr>\n",
       "    <tr>\n",
       "      <th>441</th>\n",
       "      <td>874</td>\n",
       "      <td>1</td>\n",
       "      <td>2</td>\n",
       "      <td>female</td>\n",
       "      <td>28.0</td>\n",
       "      <td>1</td>\n",
       "      <td>0</td>\n",
       "      <td>24.0000</td>\n",
       "      <td>C</td>\n",
       "    </tr>\n",
       "    <tr>\n",
       "      <th>442</th>\n",
       "      <td>879</td>\n",
       "      <td>1</td>\n",
       "      <td>1</td>\n",
       "      <td>female</td>\n",
       "      <td>56.0</td>\n",
       "      <td>0</td>\n",
       "      <td>1</td>\n",
       "      <td>83.1583</td>\n",
       "      <td>C</td>\n",
       "    </tr>\n",
       "    <tr>\n",
       "      <th>443</th>\n",
       "      <td>884</td>\n",
       "      <td>0</td>\n",
       "      <td>3</td>\n",
       "      <td>male</td>\n",
       "      <td>25.0</td>\n",
       "      <td>0</td>\n",
       "      <td>0</td>\n",
       "      <td>7.0500</td>\n",
       "      <td>S</td>\n",
       "    </tr>\n",
       "    <tr>\n",
       "      <th>444</th>\n",
       "      <td>888</td>\n",
       "      <td>0</td>\n",
       "      <td>3</td>\n",
       "      <td>female</td>\n",
       "      <td>NaN</td>\n",
       "      <td>1</td>\n",
       "      <td>2</td>\n",
       "      <td>23.4500</td>\n",
       "      <td>S</td>\n",
       "    </tr>\n",
       "  </tbody>\n",
       "</table>\n",
       "<p>445 rows × 9 columns</p>\n",
       "</div>"
      ],
      "text/plain": [
       "      id  survived  pclass     sex   age  sibsp  parch     fare embarked\n",
       "0      3         1       1  female  35.0      1      0  53.1000        S\n",
       "1      4         0       3    male  35.0      0      0   8.0500        S\n",
       "2      7         0       3    male   2.0      3      1  21.0750        S\n",
       "3      9         1       2  female  14.0      1      0  30.0708        C\n",
       "4     11         1       1  female  58.0      0      0  26.5500        S\n",
       "..   ...       ...     ...     ...   ...    ...    ...      ...      ...\n",
       "440  873         0       3    male  47.0      0      0   9.0000        S\n",
       "441  874         1       2  female  28.0      1      0  24.0000        C\n",
       "442  879         1       1  female  56.0      0      1  83.1583        C\n",
       "443  884         0       3    male  25.0      0      0   7.0500        S\n",
       "444  888         0       3  female   NaN      1      2  23.4500        S\n",
       "\n",
       "[445 rows x 9 columns]"
      ]
     },
     "execution_count": 3,
     "metadata": {},
     "output_type": "execute_result"
    }
   ],
   "source": [
    "train"
   ]
  },
  {
   "cell_type": "markdown",
   "metadata": {},
   "source": [
    "## 基礎統計量"
   ]
  },
  {
   "cell_type": "markdown",
   "metadata": {},
   "source": [
    "まずはdescribe()で基礎統計量を確認しましょう"
   ]
  },
  {
   "cell_type": "code",
   "execution_count": 4,
   "metadata": {},
   "outputs": [
    {
     "data": {
      "text/html": [
       "<div>\n",
       "<style scoped>\n",
       "    .dataframe tbody tr th:only-of-type {\n",
       "        vertical-align: middle;\n",
       "    }\n",
       "\n",
       "    .dataframe tbody tr th {\n",
       "        vertical-align: top;\n",
       "    }\n",
       "\n",
       "    .dataframe thead th {\n",
       "        text-align: right;\n",
       "    }\n",
       "</style>\n",
       "<table border=\"1\" class=\"dataframe\">\n",
       "  <thead>\n",
       "    <tr style=\"text-align: right;\">\n",
       "      <th></th>\n",
       "      <th>id</th>\n",
       "      <th>survived</th>\n",
       "      <th>pclass</th>\n",
       "      <th>age</th>\n",
       "      <th>sibsp</th>\n",
       "      <th>parch</th>\n",
       "      <th>fare</th>\n",
       "    </tr>\n",
       "  </thead>\n",
       "  <tbody>\n",
       "    <tr>\n",
       "      <th>count</th>\n",
       "      <td>445.000000</td>\n",
       "      <td>445.000000</td>\n",
       "      <td>445.000000</td>\n",
       "      <td>360.000000</td>\n",
       "      <td>445.000000</td>\n",
       "      <td>445.000000</td>\n",
       "      <td>445.000000</td>\n",
       "    </tr>\n",
       "    <tr>\n",
       "      <th>mean</th>\n",
       "      <td>456.002247</td>\n",
       "      <td>0.402247</td>\n",
       "      <td>2.296629</td>\n",
       "      <td>29.211583</td>\n",
       "      <td>0.546067</td>\n",
       "      <td>0.431461</td>\n",
       "      <td>33.959971</td>\n",
       "    </tr>\n",
       "    <tr>\n",
       "      <th>std</th>\n",
       "      <td>256.703351</td>\n",
       "      <td>0.490903</td>\n",
       "      <td>0.834024</td>\n",
       "      <td>14.154300</td>\n",
       "      <td>1.195247</td>\n",
       "      <td>0.850489</td>\n",
       "      <td>52.079492</td>\n",
       "    </tr>\n",
       "    <tr>\n",
       "      <th>min</th>\n",
       "      <td>3.000000</td>\n",
       "      <td>0.000000</td>\n",
       "      <td>1.000000</td>\n",
       "      <td>0.670000</td>\n",
       "      <td>0.000000</td>\n",
       "      <td>0.000000</td>\n",
       "      <td>0.000000</td>\n",
       "    </tr>\n",
       "    <tr>\n",
       "      <th>25%</th>\n",
       "      <td>227.000000</td>\n",
       "      <td>0.000000</td>\n",
       "      <td>2.000000</td>\n",
       "      <td>20.000000</td>\n",
       "      <td>0.000000</td>\n",
       "      <td>0.000000</td>\n",
       "      <td>7.925000</td>\n",
       "    </tr>\n",
       "    <tr>\n",
       "      <th>50%</th>\n",
       "      <td>463.000000</td>\n",
       "      <td>0.000000</td>\n",
       "      <td>3.000000</td>\n",
       "      <td>28.000000</td>\n",
       "      <td>0.000000</td>\n",
       "      <td>0.000000</td>\n",
       "      <td>15.000000</td>\n",
       "    </tr>\n",
       "    <tr>\n",
       "      <th>75%</th>\n",
       "      <td>679.000000</td>\n",
       "      <td>1.000000</td>\n",
       "      <td>3.000000</td>\n",
       "      <td>37.250000</td>\n",
       "      <td>1.000000</td>\n",
       "      <td>1.000000</td>\n",
       "      <td>31.387500</td>\n",
       "    </tr>\n",
       "    <tr>\n",
       "      <th>max</th>\n",
       "      <td>888.000000</td>\n",
       "      <td>1.000000</td>\n",
       "      <td>3.000000</td>\n",
       "      <td>80.000000</td>\n",
       "      <td>8.000000</td>\n",
       "      <td>5.000000</td>\n",
       "      <td>512.329200</td>\n",
       "    </tr>\n",
       "  </tbody>\n",
       "</table>\n",
       "</div>"
      ],
      "text/plain": [
       "               id    survived      pclass         age       sibsp       parch  \\\n",
       "count  445.000000  445.000000  445.000000  360.000000  445.000000  445.000000   \n",
       "mean   456.002247    0.402247    2.296629   29.211583    0.546067    0.431461   \n",
       "std    256.703351    0.490903    0.834024   14.154300    1.195247    0.850489   \n",
       "min      3.000000    0.000000    1.000000    0.670000    0.000000    0.000000   \n",
       "25%    227.000000    0.000000    2.000000   20.000000    0.000000    0.000000   \n",
       "50%    463.000000    0.000000    3.000000   28.000000    0.000000    0.000000   \n",
       "75%    679.000000    1.000000    3.000000   37.250000    1.000000    1.000000   \n",
       "max    888.000000    1.000000    3.000000   80.000000    8.000000    5.000000   \n",
       "\n",
       "             fare  \n",
       "count  445.000000  \n",
       "mean    33.959971  \n",
       "std     52.079492  \n",
       "min      0.000000  \n",
       "25%      7.925000  \n",
       "50%     15.000000  \n",
       "75%     31.387500  \n",
       "max    512.329200  "
      ]
     },
     "execution_count": 4,
     "metadata": {},
     "output_type": "execute_result"
    }
   ],
   "source": [
    "train.describe()"
   ]
  },
  {
   "cell_type": "markdown",
   "metadata": {},
   "source": [
    "次に、数値以外のカラムを含めてすべてのカラムの基礎統計量を確認しましょう。(include='all')"
   ]
  },
  {
   "cell_type": "code",
   "execution_count": 5,
   "metadata": {},
   "outputs": [
    {
     "data": {
      "text/html": [
       "<div>\n",
       "<style scoped>\n",
       "    .dataframe tbody tr th:only-of-type {\n",
       "        vertical-align: middle;\n",
       "    }\n",
       "\n",
       "    .dataframe tbody tr th {\n",
       "        vertical-align: top;\n",
       "    }\n",
       "\n",
       "    .dataframe thead th {\n",
       "        text-align: right;\n",
       "    }\n",
       "</style>\n",
       "<table border=\"1\" class=\"dataframe\">\n",
       "  <thead>\n",
       "    <tr style=\"text-align: right;\">\n",
       "      <th></th>\n",
       "      <th>id</th>\n",
       "      <th>survived</th>\n",
       "      <th>pclass</th>\n",
       "      <th>sex</th>\n",
       "      <th>age</th>\n",
       "      <th>sibsp</th>\n",
       "      <th>parch</th>\n",
       "      <th>fare</th>\n",
       "      <th>embarked</th>\n",
       "    </tr>\n",
       "  </thead>\n",
       "  <tbody>\n",
       "    <tr>\n",
       "      <th>count</th>\n",
       "      <td>445.000000</td>\n",
       "      <td>445.000000</td>\n",
       "      <td>445.000000</td>\n",
       "      <td>445</td>\n",
       "      <td>360.000000</td>\n",
       "      <td>445.000000</td>\n",
       "      <td>445.000000</td>\n",
       "      <td>445.000000</td>\n",
       "      <td>443</td>\n",
       "    </tr>\n",
       "    <tr>\n",
       "      <th>unique</th>\n",
       "      <td>NaN</td>\n",
       "      <td>NaN</td>\n",
       "      <td>NaN</td>\n",
       "      <td>2</td>\n",
       "      <td>NaN</td>\n",
       "      <td>NaN</td>\n",
       "      <td>NaN</td>\n",
       "      <td>NaN</td>\n",
       "      <td>3</td>\n",
       "    </tr>\n",
       "    <tr>\n",
       "      <th>top</th>\n",
       "      <td>NaN</td>\n",
       "      <td>NaN</td>\n",
       "      <td>NaN</td>\n",
       "      <td>male</td>\n",
       "      <td>NaN</td>\n",
       "      <td>NaN</td>\n",
       "      <td>NaN</td>\n",
       "      <td>NaN</td>\n",
       "      <td>S</td>\n",
       "    </tr>\n",
       "    <tr>\n",
       "      <th>freq</th>\n",
       "      <td>NaN</td>\n",
       "      <td>NaN</td>\n",
       "      <td>NaN</td>\n",
       "      <td>289</td>\n",
       "      <td>NaN</td>\n",
       "      <td>NaN</td>\n",
       "      <td>NaN</td>\n",
       "      <td>NaN</td>\n",
       "      <td>325</td>\n",
       "    </tr>\n",
       "    <tr>\n",
       "      <th>mean</th>\n",
       "      <td>456.002247</td>\n",
       "      <td>0.402247</td>\n",
       "      <td>2.296629</td>\n",
       "      <td>NaN</td>\n",
       "      <td>29.211583</td>\n",
       "      <td>0.546067</td>\n",
       "      <td>0.431461</td>\n",
       "      <td>33.959971</td>\n",
       "      <td>NaN</td>\n",
       "    </tr>\n",
       "    <tr>\n",
       "      <th>std</th>\n",
       "      <td>256.703351</td>\n",
       "      <td>0.490903</td>\n",
       "      <td>0.834024</td>\n",
       "      <td>NaN</td>\n",
       "      <td>14.154300</td>\n",
       "      <td>1.195247</td>\n",
       "      <td>0.850489</td>\n",
       "      <td>52.079492</td>\n",
       "      <td>NaN</td>\n",
       "    </tr>\n",
       "    <tr>\n",
       "      <th>min</th>\n",
       "      <td>3.000000</td>\n",
       "      <td>0.000000</td>\n",
       "      <td>1.000000</td>\n",
       "      <td>NaN</td>\n",
       "      <td>0.670000</td>\n",
       "      <td>0.000000</td>\n",
       "      <td>0.000000</td>\n",
       "      <td>0.000000</td>\n",
       "      <td>NaN</td>\n",
       "    </tr>\n",
       "    <tr>\n",
       "      <th>25%</th>\n",
       "      <td>227.000000</td>\n",
       "      <td>0.000000</td>\n",
       "      <td>2.000000</td>\n",
       "      <td>NaN</td>\n",
       "      <td>20.000000</td>\n",
       "      <td>0.000000</td>\n",
       "      <td>0.000000</td>\n",
       "      <td>7.925000</td>\n",
       "      <td>NaN</td>\n",
       "    </tr>\n",
       "    <tr>\n",
       "      <th>50%</th>\n",
       "      <td>463.000000</td>\n",
       "      <td>0.000000</td>\n",
       "      <td>3.000000</td>\n",
       "      <td>NaN</td>\n",
       "      <td>28.000000</td>\n",
       "      <td>0.000000</td>\n",
       "      <td>0.000000</td>\n",
       "      <td>15.000000</td>\n",
       "      <td>NaN</td>\n",
       "    </tr>\n",
       "    <tr>\n",
       "      <th>75%</th>\n",
       "      <td>679.000000</td>\n",
       "      <td>1.000000</td>\n",
       "      <td>3.000000</td>\n",
       "      <td>NaN</td>\n",
       "      <td>37.250000</td>\n",
       "      <td>1.000000</td>\n",
       "      <td>1.000000</td>\n",
       "      <td>31.387500</td>\n",
       "      <td>NaN</td>\n",
       "    </tr>\n",
       "    <tr>\n",
       "      <th>max</th>\n",
       "      <td>888.000000</td>\n",
       "      <td>1.000000</td>\n",
       "      <td>3.000000</td>\n",
       "      <td>NaN</td>\n",
       "      <td>80.000000</td>\n",
       "      <td>8.000000</td>\n",
       "      <td>5.000000</td>\n",
       "      <td>512.329200</td>\n",
       "      <td>NaN</td>\n",
       "    </tr>\n",
       "  </tbody>\n",
       "</table>\n",
       "</div>"
      ],
      "text/plain": [
       "                id    survived      pclass   sex         age       sibsp  \\\n",
       "count   445.000000  445.000000  445.000000   445  360.000000  445.000000   \n",
       "unique         NaN         NaN         NaN     2         NaN         NaN   \n",
       "top            NaN         NaN         NaN  male         NaN         NaN   \n",
       "freq           NaN         NaN         NaN   289         NaN         NaN   \n",
       "mean    456.002247    0.402247    2.296629   NaN   29.211583    0.546067   \n",
       "std     256.703351    0.490903    0.834024   NaN   14.154300    1.195247   \n",
       "min       3.000000    0.000000    1.000000   NaN    0.670000    0.000000   \n",
       "25%     227.000000    0.000000    2.000000   NaN   20.000000    0.000000   \n",
       "50%     463.000000    0.000000    3.000000   NaN   28.000000    0.000000   \n",
       "75%     679.000000    1.000000    3.000000   NaN   37.250000    1.000000   \n",
       "max     888.000000    1.000000    3.000000   NaN   80.000000    8.000000   \n",
       "\n",
       "             parch        fare embarked  \n",
       "count   445.000000  445.000000      443  \n",
       "unique         NaN         NaN        3  \n",
       "top            NaN         NaN        S  \n",
       "freq           NaN         NaN      325  \n",
       "mean      0.431461   33.959971      NaN  \n",
       "std       0.850489   52.079492      NaN  \n",
       "min       0.000000    0.000000      NaN  \n",
       "25%       0.000000    7.925000      NaN  \n",
       "50%       0.000000   15.000000      NaN  \n",
       "75%       1.000000   31.387500      NaN  \n",
       "max       5.000000  512.329200      NaN  "
      ]
     },
     "execution_count": 5,
     "metadata": {},
     "output_type": "execute_result"
    }
   ],
   "source": [
    "train.describe(include='all')"
   ]
  },
  {
   "cell_type": "markdown",
   "metadata": {},
   "source": [
    "カテゴリー変数に対してsexにどのような種類があり、それぞれの数を確認しましょう(unique, nunique, value_counts)"
   ]
  },
  {
   "cell_type": "code",
   "execution_count": 6,
   "metadata": {},
   "outputs": [
    {
     "data": {
      "text/plain": [
       "array(['female', 'male'], dtype=object)"
      ]
     },
     "execution_count": 6,
     "metadata": {},
     "output_type": "execute_result"
    }
   ],
   "source": [
    "train['sex'].unique()"
   ]
  },
  {
   "cell_type": "code",
   "execution_count": 7,
   "metadata": {},
   "outputs": [
    {
     "data": {
      "text/plain": [
       "2"
      ]
     },
     "execution_count": 7,
     "metadata": {},
     "output_type": "execute_result"
    }
   ],
   "source": [
    "train['sex'].nunique()"
   ]
  },
  {
   "cell_type": "code",
   "execution_count": 8,
   "metadata": {},
   "outputs": [
    {
     "data": {
      "text/plain": [
       "male      289\n",
       "female    156\n",
       "Name: sex, dtype: int64"
      ]
     },
     "execution_count": 8,
     "metadata": {},
     "output_type": "execute_result"
    }
   ],
   "source": [
    "train['sex'].value_counts()"
   ]
  },
  {
   "cell_type": "code",
   "execution_count": null,
   "metadata": {},
   "outputs": [],
   "source": []
  },
  {
   "cell_type": "markdown",
   "metadata": {},
   "source": [
    "## 欠損値: isnull(), fillna(), impute\n",
    "isnull().any()<br/>\n",
    "isnull().sum()<br/>\n",
    "fillna()<br/>"
   ]
  },
  {
   "cell_type": "code",
   "execution_count": 10,
   "metadata": {},
   "outputs": [
    {
     "data": {
      "text/plain": [
       "id          False\n",
       "survived    False\n",
       "pclass      False\n",
       "sex         False\n",
       "age          True\n",
       "sibsp       False\n",
       "parch       False\n",
       "fare        False\n",
       "embarked     True\n",
       "dtype: bool"
      ]
     },
     "execution_count": 10,
     "metadata": {},
     "output_type": "execute_result"
    }
   ],
   "source": [
    "train.isnull().any()"
   ]
  },
  {
   "cell_type": "code",
   "execution_count": 12,
   "metadata": {},
   "outputs": [
    {
     "data": {
      "text/plain": [
       "id           0\n",
       "survived     0\n",
       "pclass       0\n",
       "sex          0\n",
       "age         85\n",
       "sibsp        0\n",
       "parch        0\n",
       "fare         0\n",
       "embarked     2\n",
       "dtype: int64"
      ]
     },
     "execution_count": 12,
     "metadata": {},
     "output_type": "execute_result"
    }
   ],
   "source": [
    "train.isnull().sum()"
   ]
  },
  {
   "cell_type": "markdown",
   "metadata": {},
   "source": [
    "fillnaでageの欠損値に0に設定する"
   ]
  },
  {
   "cell_type": "code",
   "execution_count": 24,
   "metadata": {},
   "outputs": [
    {
     "data": {
      "text/plain": [
       "0    35.0\n",
       "1    35.0\n",
       "2     2.0\n",
       "3    14.0\n",
       "4    58.0\n",
       "5    39.0\n",
       "6     2.0\n",
       "7     NaN\n",
       "8    28.0\n",
       "9     8.0\n",
       "Name: age, dtype: float64"
      ]
     },
     "execution_count": 24,
     "metadata": {},
     "output_type": "execute_result"
    }
   ],
   "source": [
    "_tmp = train['age']\n",
    "_tmp.head(10)"
   ]
  },
  {
   "cell_type": "code",
   "execution_count": 25,
   "metadata": {},
   "outputs": [
    {
     "data": {
      "text/plain": [
       "0    35.0\n",
       "1    35.0\n",
       "2     2.0\n",
       "3    14.0\n",
       "4    58.0\n",
       "5    39.0\n",
       "6     2.0\n",
       "7     0.0\n",
       "8    28.0\n",
       "9     8.0\n",
       "Name: age, dtype: float64"
      ]
     },
     "execution_count": 25,
     "metadata": {},
     "output_type": "execute_result"
    }
   ],
   "source": [
    "_tmp = _tmp.fillna(0)\n",
    "_tmp.head(10)"
   ]
  },
  {
   "cell_type": "code",
   "execution_count": 27,
   "metadata": {},
   "outputs": [
    {
     "data": {
      "text/plain": [
       "0    35.0\n",
       "1    35.0\n",
       "2     2.0\n",
       "3    14.0\n",
       "4    58.0\n",
       "5    39.0\n",
       "6     2.0\n",
       "7     NaN\n",
       "8    28.0\n",
       "9     8.0\n",
       "Name: age, dtype: float64"
      ]
     },
     "execution_count": 27,
     "metadata": {},
     "output_type": "execute_result"
    }
   ],
   "source": [
    "_tmp = train['age']\n",
    "_tmp.head(10)"
   ]
  },
  {
   "cell_type": "markdown",
   "metadata": {},
   "source": [
    "欠損値をageの平均値を設定する"
   ]
  },
  {
   "cell_type": "code",
   "execution_count": 28,
   "metadata": {},
   "outputs": [
    {
     "data": {
      "text/plain": [
       "0    35.000000\n",
       "1    35.000000\n",
       "2     2.000000\n",
       "3    14.000000\n",
       "4    58.000000\n",
       "5    39.000000\n",
       "6     2.000000\n",
       "7    29.211583\n",
       "8    28.000000\n",
       "9     8.000000\n",
       "Name: age, dtype: float64"
      ]
     },
     "execution_count": 28,
     "metadata": {},
     "output_type": "execute_result"
    }
   ],
   "source": [
    "_tmp = _tmp.fillna(_tmp.mean())\n",
    "_tmp.head(10)"
   ]
  },
  {
   "cell_type": "markdown",
   "metadata": {},
   "source": [
    "Imputeを使って、fillnaと同じことをしてみる"
   ]
  },
  {
   "cell_type": "code",
   "execution_count": 59,
   "metadata": {},
   "outputs": [],
   "source": [
    "from sklearn.impute import SimpleImputer\n",
    "\n",
    "imp = SimpleImputer()\n",
    "imp.fit(train[['age']])\n",
    "_tmp = imp.transform(train[['age']])"
   ]
  },
  {
   "cell_type": "code",
   "execution_count": 60,
   "metadata": {},
   "outputs": [
    {
     "data": {
      "text/plain": [
       "array([[35.        ],\n",
       "       [35.        ],\n",
       "       [ 2.        ],\n",
       "       [14.        ],\n",
       "       [58.        ],\n",
       "       [39.        ],\n",
       "       [ 2.        ],\n",
       "       [29.21158333],\n",
       "       [28.        ],\n",
       "       [ 8.        ],\n",
       "       [38.        ],\n",
       "       [29.21158333],\n",
       "       [29.21158333],\n",
       "       [29.21158333],\n",
       "       [29.21158333],\n",
       "       [66.        ],\n",
       "       [29.21158333],\n",
       "       [27.        ],\n",
       "       [29.21158333],\n",
       "       [ 3.        ],\n",
       "       [19.        ],\n",
       "       [29.21158333],\n",
       "       [29.        ],\n",
       "       [21.        ],\n",
       "       [28.5       ],\n",
       "       [ 5.        ],\n",
       "       [11.        ],\n",
       "       [38.        ],\n",
       "       [ 4.        ],\n",
       "       [19.        ],\n",
       "       [26.        ],\n",
       "       [32.        ],\n",
       "       [21.        ],\n",
       "       [26.        ],\n",
       "       [22.        ],\n",
       "       [29.21158333],\n",
       "       [28.        ],\n",
       "       [17.        ],\n",
       "       [16.        ],\n",
       "       [29.21158333],\n",
       "       [23.        ],\n",
       "       [20.        ],\n",
       "       [26.        ],\n",
       "       [59.        ],\n",
       "       [29.21158333],\n",
       "       [34.        ],\n",
       "       [34.        ],\n",
       "       [21.        ],\n",
       "       [47.        ],\n",
       "       [14.5       ],\n",
       "       [22.        ],\n",
       "       [17.        ],\n",
       "       [21.        ],\n",
       "       [29.        ],\n",
       "       [ 2.        ],\n",
       "       [21.        ],\n",
       "       [29.21158333],\n",
       "       [32.5       ],\n",
       "       [12.        ],\n",
       "       [29.21158333],\n",
       "       [29.21158333],\n",
       "       [45.        ],\n",
       "       [33.        ],\n",
       "       [20.        ],\n",
       "       [25.        ],\n",
       "       [23.        ],\n",
       "       [19.        ],\n",
       "       [37.        ],\n",
       "       [16.        ],\n",
       "       [24.        ],\n",
       "       [19.        ],\n",
       "       [27.        ],\n",
       "       [ 9.        ],\n",
       "       [36.5       ],\n",
       "       [42.        ],\n",
       "       [22.        ],\n",
       "       [55.5       ],\n",
       "       [40.5       ],\n",
       "       [44.        ],\n",
       "       [17.        ],\n",
       "       [ 1.        ],\n",
       "       [29.21158333],\n",
       "       [29.21158333],\n",
       "       [28.        ],\n",
       "       [56.        ],\n",
       "       [29.21158333],\n",
       "       [50.        ],\n",
       "       [29.21158333],\n",
       "       [ 9.        ],\n",
       "       [ 1.        ],\n",
       "       [ 4.        ],\n",
       "       [29.21158333],\n",
       "       [36.        ],\n",
       "       [19.        ],\n",
       "       [19.        ],\n",
       "       [58.        ],\n",
       "       [42.        ],\n",
       "       [24.        ],\n",
       "       [29.21158333],\n",
       "       [45.5       ],\n",
       "       [26.        ],\n",
       "       [40.        ],\n",
       "       [22.        ],\n",
       "       [30.        ],\n",
       "       [27.        ],\n",
       "       [42.        ],\n",
       "       [30.        ],\n",
       "       [27.        ],\n",
       "       [38.        ],\n",
       "       [22.        ],\n",
       "       [19.        ],\n",
       "       [20.5       ],\n",
       "       [18.        ],\n",
       "       [59.        ],\n",
       "       [24.        ],\n",
       "       [ 8.        ],\n",
       "       [30.        ],\n",
       "       [25.        ],\n",
       "       [37.        ],\n",
       "       [41.        ],\n",
       "       [29.21158333],\n",
       "       [30.        ],\n",
       "       [50.        ],\n",
       "       [29.21158333],\n",
       "       [36.        ],\n",
       "       [35.        ],\n",
       "       [37.        ],\n",
       "       [29.21158333],\n",
       "       [63.        ],\n",
       "       [45.        ],\n",
       "       [29.21158333],\n",
       "       [65.        ],\n",
       "       [28.        ],\n",
       "       [16.        ],\n",
       "       [29.21158333],\n",
       "       [30.        ],\n",
       "       [22.        ],\n",
       "       [42.        ],\n",
       "       [22.        ],\n",
       "       [26.        ],\n",
       "       [19.        ],\n",
       "       [36.        ],\n",
       "       [29.21158333],\n",
       "       [23.5       ],\n",
       "       [ 2.        ],\n",
       "       [29.21158333],\n",
       "       [ 0.92      ],\n",
       "       [17.        ],\n",
       "       [43.        ],\n",
       "       [27.        ],\n",
       "       [30.        ],\n",
       "       [22.        ],\n",
       "       [29.21158333],\n",
       "       [36.        ],\n",
       "       [61.        ],\n",
       "       [31.        ],\n",
       "       [16.        ],\n",
       "       [29.21158333],\n",
       "       [38.        ],\n",
       "       [29.21158333],\n",
       "       [29.        ],\n",
       "       [45.        ],\n",
       "       [ 2.        ],\n",
       "       [24.        ],\n",
       "       [25.        ],\n",
       "       [29.21158333],\n",
       "       [ 3.        ],\n",
       "       [42.        ],\n",
       "       [25.        ],\n",
       "       [28.        ],\n",
       "       [38.        ],\n",
       "       [29.21158333],\n",
       "       [40.        ],\n",
       "       [30.        ],\n",
       "       [29.21158333],\n",
       "       [24.        ],\n",
       "       [25.        ],\n",
       "       [18.        ],\n",
       "       [22.        ],\n",
       "       [22.        ],\n",
       "       [27.        ],\n",
       "       [ 1.        ],\n",
       "       [35.        ],\n",
       "       [18.        ],\n",
       "       [36.        ],\n",
       "       [29.21158333],\n",
       "       [23.        ],\n",
       "       [24.        ],\n",
       "       [31.        ],\n",
       "       [23.        ],\n",
       "       [39.        ],\n",
       "       [20.        ],\n",
       "       [34.        ],\n",
       "       [ 3.        ],\n",
       "       [29.21158333],\n",
       "       [29.21158333],\n",
       "       [44.        ],\n",
       "       [29.21158333],\n",
       "       [18.        ],\n",
       "       [10.        ],\n",
       "       [21.        ],\n",
       "       [28.        ],\n",
       "       [28.        ],\n",
       "       [19.        ],\n",
       "       [32.        ],\n",
       "       [28.        ],\n",
       "       [29.21158333],\n",
       "       [17.        ],\n",
       "       [14.        ],\n",
       "       [24.        ],\n",
       "       [64.        ],\n",
       "       [25.        ],\n",
       "       [29.21158333],\n",
       "       [ 4.        ],\n",
       "       [13.        ],\n",
       "       [ 5.        ],\n",
       "       [52.        ],\n",
       "       [36.        ],\n",
       "       [29.21158333],\n",
       "       [29.        ],\n",
       "       [29.21158333],\n",
       "       [34.        ],\n",
       "       [48.        ],\n",
       "       [29.21158333],\n",
       "       [29.21158333],\n",
       "       [29.21158333],\n",
       "       [ 0.75      ],\n",
       "       [29.21158333],\n",
       "       [33.        ],\n",
       "       [23.        ],\n",
       "       [22.        ],\n",
       "       [ 9.        ],\n",
       "       [35.        ],\n",
       "       [30.        ],\n",
       "       [29.21158333],\n",
       "       [29.21158333],\n",
       "       [25.        ],\n",
       "       [24.        ],\n",
       "       [29.21158333],\n",
       "       [16.        ],\n",
       "       [29.21158333],\n",
       "       [28.        ],\n",
       "       [26.        ],\n",
       "       [29.        ],\n",
       "       [36.        ],\n",
       "       [24.        ],\n",
       "       [47.        ],\n",
       "       [29.21158333],\n",
       "       [40.5       ],\n",
       "       [39.        ],\n",
       "       [30.        ],\n",
       "       [45.        ],\n",
       "       [30.        ],\n",
       "       [22.        ],\n",
       "       [36.        ],\n",
       "       [ 9.        ],\n",
       "       [32.        ],\n",
       "       [50.        ],\n",
       "       [19.        ],\n",
       "       [29.21158333],\n",
       "       [33.        ],\n",
       "       [17.        ],\n",
       "       [27.        ],\n",
       "       [29.21158333],\n",
       "       [22.        ],\n",
       "       [62.        ],\n",
       "       [48.        ],\n",
       "       [36.        ],\n",
       "       [29.21158333],\n",
       "       [28.        ],\n",
       "       [24.        ],\n",
       "       [29.21158333],\n",
       "       [32.        ],\n",
       "       [53.        ],\n",
       "       [16.        ],\n",
       "       [19.        ],\n",
       "       [34.        ],\n",
       "       [39.        ],\n",
       "       [32.        ],\n",
       "       [39.        ],\n",
       "       [54.        ],\n",
       "       [29.21158333],\n",
       "       [47.        ],\n",
       "       [29.21158333],\n",
       "       [35.        ],\n",
       "       [52.        ],\n",
       "       [29.21158333],\n",
       "       [37.        ],\n",
       "       [36.        ],\n",
       "       [29.21158333],\n",
       "       [49.        ],\n",
       "       [24.        ],\n",
       "       [29.21158333],\n",
       "       [29.21158333],\n",
       "       [35.        ],\n",
       "       [36.        ],\n",
       "       [30.        ],\n",
       "       [27.        ],\n",
       "       [22.        ],\n",
       "       [39.        ],\n",
       "       [29.21158333],\n",
       "       [29.21158333],\n",
       "       [34.        ],\n",
       "       [26.        ],\n",
       "       [42.        ],\n",
       "       [20.        ],\n",
       "       [21.        ],\n",
       "       [21.        ],\n",
       "       [26.        ],\n",
       "       [29.21158333],\n",
       "       [80.        ],\n",
       "       [29.21158333],\n",
       "       [32.        ],\n",
       "       [31.        ],\n",
       "       [29.21158333],\n",
       "       [20.        ],\n",
       "       [24.        ],\n",
       "       [48.        ],\n",
       "       [23.        ],\n",
       "       [18.        ],\n",
       "       [58.        ],\n",
       "       [50.        ],\n",
       "       [40.        ],\n",
       "       [47.        ],\n",
       "       [36.        ],\n",
       "       [20.        ],\n",
       "       [32.        ],\n",
       "       [29.21158333],\n",
       "       [43.        ],\n",
       "       [40.        ],\n",
       "       [31.        ],\n",
       "       [18.        ],\n",
       "       [18.        ],\n",
       "       [36.        ],\n",
       "       [20.        ],\n",
       "       [60.        ],\n",
       "       [25.        ],\n",
       "       [19.        ],\n",
       "       [15.        ],\n",
       "       [31.        ],\n",
       "       [ 4.        ],\n",
       "       [29.21158333],\n",
       "       [44.        ],\n",
       "       [29.21158333],\n",
       "       [42.        ],\n",
       "       [18.        ],\n",
       "       [25.        ],\n",
       "       [39.        ],\n",
       "       [42.        ],\n",
       "       [29.21158333],\n",
       "       [29.21158333],\n",
       "       [52.        ],\n",
       "       [38.        ],\n",
       "       [27.        ],\n",
       "       [33.        ],\n",
       "       [17.        ],\n",
       "       [50.        ],\n",
       "       [25.        ],\n",
       "       [29.        ],\n",
       "       [29.21158333],\n",
       "       [23.        ],\n",
       "       [23.        ],\n",
       "       [48.        ],\n",
       "       [35.        ],\n",
       "       [29.21158333],\n",
       "       [36.        ],\n",
       "       [24.        ],\n",
       "       [70.        ],\n",
       "       [16.        ],\n",
       "       [30.        ],\n",
       "       [19.        ],\n",
       "       [31.        ],\n",
       "       [ 6.        ],\n",
       "       [48.        ],\n",
       "       [ 0.67      ],\n",
       "       [28.        ],\n",
       "       [18.        ],\n",
       "       [34.        ],\n",
       "       [33.        ],\n",
       "       [36.        ],\n",
       "       [51.        ],\n",
       "       [30.5       ],\n",
       "       [24.        ],\n",
       "       [57.        ],\n",
       "       [29.21158333],\n",
       "       [54.        ],\n",
       "       [18.        ],\n",
       "       [29.21158333],\n",
       "       [ 5.        ],\n",
       "       [43.        ],\n",
       "       [17.        ],\n",
       "       [29.21158333],\n",
       "       [46.        ],\n",
       "       [29.21158333],\n",
       "       [16.        ],\n",
       "       [29.21158333],\n",
       "       [29.21158333],\n",
       "       [25.        ],\n",
       "       [39.        ],\n",
       "       [31.        ],\n",
       "       [30.        ],\n",
       "       [31.        ],\n",
       "       [11.        ],\n",
       "       [27.        ],\n",
       "       [31.        ],\n",
       "       [33.        ],\n",
       "       [35.        ],\n",
       "       [30.5       ],\n",
       "       [27.        ],\n",
       "       [ 2.        ],\n",
       "       [29.21158333],\n",
       "       [29.21158333],\n",
       "       [62.        ],\n",
       "       [15.        ],\n",
       "       [ 0.83      ],\n",
       "       [18.        ],\n",
       "       [39.        ],\n",
       "       [21.        ],\n",
       "       [20.        ],\n",
       "       [30.        ],\n",
       "       [17.        ],\n",
       "       [42.        ],\n",
       "       [29.21158333],\n",
       "       [35.        ],\n",
       "       [29.21158333],\n",
       "       [ 4.        ],\n",
       "       [16.        ],\n",
       "       [44.        ],\n",
       "       [18.        ],\n",
       "       [45.        ],\n",
       "       [24.        ],\n",
       "       [41.        ],\n",
       "       [21.        ],\n",
       "       [29.21158333],\n",
       "       [42.        ],\n",
       "       [31.        ],\n",
       "       [29.21158333],\n",
       "       [ 4.        ],\n",
       "       [47.        ],\n",
       "       [33.        ],\n",
       "       [47.        ],\n",
       "       [28.        ],\n",
       "       [56.        ],\n",
       "       [25.        ],\n",
       "       [29.21158333]])"
      ]
     },
     "execution_count": 60,
     "metadata": {},
     "output_type": "execute_result"
    }
   ],
   "source": [
    "_tmp"
   ]
  },
  {
   "cell_type": "markdown",
   "metadata": {},
   "source": [
    "## 折れ線グラフ"
   ]
  },
  {
   "cell_type": "code",
   "execution_count": 39,
   "metadata": {},
   "outputs": [
    {
     "data": {
      "text/plain": [
       "<AxesSubplot:>"
      ]
     },
     "execution_count": 39,
     "metadata": {},
     "output_type": "execute_result"
    },
    {
     "data": {
      "image/png": "[encoded data removed]",
      "text/plain": [
       "<Figure size 864x288 with 1 Axes>"
      ]
     },
     "metadata": {
      "needs_background": "light"
     },
     "output_type": "display_data"
    }
   ],
   "source": [
    "train['fare'].plot(figsize=(12, 4))"
   ]
  },
  {
   "cell_type": "markdown",
   "metadata": {},
   "source": [
    "## 散布図"
   ]
  },
  {
   "cell_type": "code",
   "execution_count": 42,
   "metadata": {},
   "outputs": [
    {
     "data": {
      "text/plain": [
       "<AxesSubplot:xlabel='id', ylabel='fare'>"
      ]
     },
     "execution_count": 42,
     "metadata": {},
     "output_type": "execute_result"
    },
    {
     "data": {
      "image/png": "[encoded data removed]",
      "text/plain": [
       "<Figure size 864x288 with 1 Axes>"
      ]
     },
     "metadata": {
      "needs_background": "light"
     },
     "output_type": "display_data"
    }
   ],
   "source": [
    "train.plot.scatter('id', 'fare', figsize=(12, 4))"
   ]
  },
  {
   "cell_type": "markdown",
   "metadata": {},
   "source": [
    "## ヒストグラム"
   ]
  },
  {
   "cell_type": "code",
   "execution_count": 45,
   "metadata": {},
   "outputs": [
    {
     "data": {
      "text/plain": [
       "array([[<AxesSubplot:title={'center':'id'}>,\n",
       "        <AxesSubplot:title={'center':'survived'}>,\n",
       "        <AxesSubplot:title={'center':'pclass'}>],\n",
       "       [<AxesSubplot:title={'center':'age'}>,\n",
       "        <AxesSubplot:title={'center':'sibsp'}>,\n",
       "        <AxesSubplot:title={'center':'parch'}>],\n",
       "       [<AxesSubplot:title={'center':'fare'}>, <AxesSubplot:>,\n",
       "        <AxesSubplot:>]], dtype=object)"
      ]
     },
     "execution_count": 45,
     "metadata": {},
     "output_type": "execute_result"
    },
    {
     "data": {
      "image/png": "[encoded data removed]",
      "text/plain": [
       "<Figure size 864x576 with 9 Axes>"
      ]
     },
     "metadata": {
      "needs_background": "light"
     },
     "output_type": "display_data"
    }
   ],
   "source": [
    "train.hist(figsize=(12, 8))"
   ]
  },
  {
   "cell_type": "markdown",
   "metadata": {},
   "source": [
    "## カテゴリカル処理"
   ]
  },
  {
   "cell_type": "markdown",
   "metadata": {},
   "source": [
    "### One Hot Encoder / pd.get_dummies"
   ]
  },
  {
   "cell_type": "markdown",
   "metadata": {},
   "source": [
    "### get_dummies"
   ]
  },
  {
   "cell_type": "code",
   "execution_count": 49,
   "metadata": {},
   "outputs": [
    {
     "data": {
      "text/plain": [
       "0      female\n",
       "1        male\n",
       "2        male\n",
       "3      female\n",
       "4      female\n",
       "        ...  \n",
       "440      male\n",
       "441    female\n",
       "442    female\n",
       "443      male\n",
       "444    female\n",
       "Name: sex, Length: 445, dtype: object"
      ]
     },
     "execution_count": 49,
     "metadata": {},
     "output_type": "execute_result"
    }
   ],
   "source": [
    "train['sex']"
   ]
  },
  {
   "cell_type": "code",
   "execution_count": 48,
   "metadata": {},
   "outputs": [
    {
     "data": {
      "text/html": [
       "<div>\n",
       "<style scoped>\n",
       "    .dataframe tbody tr th:only-of-type {\n",
       "        vertical-align: middle;\n",
       "    }\n",
       "\n",
       "    .dataframe tbody tr th {\n",
       "        vertical-align: top;\n",
       "    }\n",
       "\n",
       "    .dataframe thead th {\n",
       "        text-align: right;\n",
       "    }\n",
       "</style>\n",
       "<table border=\"1\" class=\"dataframe\">\n",
       "  <thead>\n",
       "    <tr style=\"text-align: right;\">\n",
       "      <th></th>\n",
       "      <th>female</th>\n",
       "      <th>male</th>\n",
       "    </tr>\n",
       "  </thead>\n",
       "  <tbody>\n",
       "    <tr>\n",
       "      <th>0</th>\n",
       "      <td>1</td>\n",
       "      <td>0</td>\n",
       "    </tr>\n",
       "    <tr>\n",
       "      <th>1</th>\n",
       "      <td>0</td>\n",
       "      <td>1</td>\n",
       "    </tr>\n",
       "    <tr>\n",
       "      <th>2</th>\n",
       "      <td>0</td>\n",
       "      <td>1</td>\n",
       "    </tr>\n",
       "    <tr>\n",
       "      <th>3</th>\n",
       "      <td>1</td>\n",
       "      <td>0</td>\n",
       "    </tr>\n",
       "    <tr>\n",
       "      <th>4</th>\n",
       "      <td>1</td>\n",
       "      <td>0</td>\n",
       "    </tr>\n",
       "    <tr>\n",
       "      <th>...</th>\n",
       "      <td>...</td>\n",
       "      <td>...</td>\n",
       "    </tr>\n",
       "    <tr>\n",
       "      <th>440</th>\n",
       "      <td>0</td>\n",
       "      <td>1</td>\n",
       "    </tr>\n",
       "    <tr>\n",
       "      <th>441</th>\n",
       "      <td>1</td>\n",
       "      <td>0</td>\n",
       "    </tr>\n",
       "    <tr>\n",
       "      <th>442</th>\n",
       "      <td>1</td>\n",
       "      <td>0</td>\n",
       "    </tr>\n",
       "    <tr>\n",
       "      <th>443</th>\n",
       "      <td>0</td>\n",
       "      <td>1</td>\n",
       "    </tr>\n",
       "    <tr>\n",
       "      <th>444</th>\n",
       "      <td>1</td>\n",
       "      <td>0</td>\n",
       "    </tr>\n",
       "  </tbody>\n",
       "</table>\n",
       "<p>445 rows × 2 columns</p>\n",
       "</div>"
      ],
      "text/plain": [
       "     female  male\n",
       "0         1     0\n",
       "1         0     1\n",
       "2         0     1\n",
       "3         1     0\n",
       "4         1     0\n",
       "..      ...   ...\n",
       "440       0     1\n",
       "441       1     0\n",
       "442       1     0\n",
       "443       0     1\n",
       "444       1     0\n",
       "\n",
       "[445 rows x 2 columns]"
      ]
     },
     "execution_count": 48,
     "metadata": {},
     "output_type": "execute_result"
    }
   ],
   "source": [
    "pd.get_dummies(train['sex'])"
   ]
  },
  {
   "cell_type": "markdown",
   "metadata": {},
   "source": [
    "### OneHotEncoder"
   ]
  },
  {
   "cell_type": "code",
   "execution_count": 62,
   "metadata": {},
   "outputs": [
    {
     "name": "stdout",
     "output_type": "stream",
     "text": [
      "Collecting category_encoders\n",
      "  Using cached category_encoders-2.2.2-py2.py3-none-any.whl (80 kB)\n",
      "Requirement already satisfied: scikit-learn>=0.20.0 in d:\\anaconda3\\lib\\site-packages (from category_encoders) (0.22.1)\n",
      "Requirement already satisfied: statsmodels>=0.9.0 in d:\\anaconda3\\lib\\site-packages (from category_encoders) (0.11.0)\n",
      "Requirement already satisfied: scipy>=1.0.0 in d:\\anaconda3\\lib\\site-packages (from category_encoders) (1.4.1)\n",
      "Requirement already satisfied: numpy>=1.14.0 in d:\\anaconda3\\lib\\site-packages (from category_encoders) (1.18.1)\n",
      "Requirement already satisfied: pandas>=0.21.1 in d:\\anaconda3\\lib\\site-packages (from category_encoders) (1.1.1)\n",
      "Requirement already satisfied: patsy>=0.5.1 in d:\\anaconda3\\lib\\site-packages (from category_encoders) (0.5.1)\n",
      "Requirement already satisfied: joblib>=0.11 in d:\\anaconda3\\lib\\site-packages (from scikit-learn>=0.20.0->category_encoders) (0.14.1)\n",
      "Requirement already satisfied: python-dateutil>=2.7.3 in d:\\anaconda3\\lib\\site-packages (from pandas>=0.21.1->category_encoders) (2.8.1)\n",
      "Requirement already satisfied: pytz>=2017.2 in d:\\anaconda3\\lib\\site-packages (from pandas>=0.21.1->category_encoders) (2019.3)\n",
      "Requirement already satisfied: six in d:\\anaconda3\\lib\\site-packages (from patsy>=0.5.1->category_encoders) (1.14.0)\n",
      "Installing collected packages: category-encoders\n",
      "Successfully installed category-encoders-2.2.2\n"
     ]
    }
   ],
   "source": [
    "!pip install category_encoders"
   ]
  },
  {
   "cell_type": "code",
   "execution_count": 63,
   "metadata": {},
   "outputs": [
    {
     "name": "stderr",
     "output_type": "stream",
     "text": [
      "d:\\anaconda3\\lib\\site-packages\\category_encoders\\utils.py:21: FutureWarning: is_categorical is deprecated and will be removed in a future version.  Use is_categorical_dtype instead\n",
      "  elif pd.api.types.is_categorical(cols):\n"
     ]
    }
   ],
   "source": [
    "import category_encoders as ce\n",
    "\n",
    "ohe = ce.OneHotEncoder(handle_unknown='impute')\n",
    "ohe.fit(train[['sex']])\n",
    "_tmp = ohe.transform(train[['sex']])"
   ]
  },
  {
   "cell_type": "code",
   "execution_count": 64,
   "metadata": {},
   "outputs": [
    {
     "data": {
      "text/html": [
       "<div>\n",
       "<style scoped>\n",
       "    .dataframe tbody tr th:only-of-type {\n",
       "        vertical-align: middle;\n",
       "    }\n",
       "\n",
       "    .dataframe tbody tr th {\n",
       "        vertical-align: top;\n",
       "    }\n",
       "\n",
       "    .dataframe thead th {\n",
       "        text-align: right;\n",
       "    }\n",
       "</style>\n",
       "<table border=\"1\" class=\"dataframe\">\n",
       "  <thead>\n",
       "    <tr style=\"text-align: right;\">\n",
       "      <th></th>\n",
       "      <th>sex_1</th>\n",
       "      <th>sex_2</th>\n",
       "    </tr>\n",
       "  </thead>\n",
       "  <tbody>\n",
       "    <tr>\n",
       "      <th>0</th>\n",
       "      <td>1</td>\n",
       "      <td>0</td>\n",
       "    </tr>\n",
       "    <tr>\n",
       "      <th>1</th>\n",
       "      <td>0</td>\n",
       "      <td>1</td>\n",
       "    </tr>\n",
       "    <tr>\n",
       "      <th>2</th>\n",
       "      <td>0</td>\n",
       "      <td>1</td>\n",
       "    </tr>\n",
       "    <tr>\n",
       "      <th>3</th>\n",
       "      <td>1</td>\n",
       "      <td>0</td>\n",
       "    </tr>\n",
       "    <tr>\n",
       "      <th>4</th>\n",
       "      <td>1</td>\n",
       "      <td>0</td>\n",
       "    </tr>\n",
       "    <tr>\n",
       "      <th>...</th>\n",
       "      <td>...</td>\n",
       "      <td>...</td>\n",
       "    </tr>\n",
       "    <tr>\n",
       "      <th>440</th>\n",
       "      <td>0</td>\n",
       "      <td>1</td>\n",
       "    </tr>\n",
       "    <tr>\n",
       "      <th>441</th>\n",
       "      <td>1</td>\n",
       "      <td>0</td>\n",
       "    </tr>\n",
       "    <tr>\n",
       "      <th>442</th>\n",
       "      <td>1</td>\n",
       "      <td>0</td>\n",
       "    </tr>\n",
       "    <tr>\n",
       "      <th>443</th>\n",
       "      <td>0</td>\n",
       "      <td>1</td>\n",
       "    </tr>\n",
       "    <tr>\n",
       "      <th>444</th>\n",
       "      <td>1</td>\n",
       "      <td>0</td>\n",
       "    </tr>\n",
       "  </tbody>\n",
       "</table>\n",
       "<p>445 rows × 2 columns</p>\n",
       "</div>"
      ],
      "text/plain": [
       "     sex_1  sex_2\n",
       "0        1      0\n",
       "1        0      1\n",
       "2        0      1\n",
       "3        1      0\n",
       "4        1      0\n",
       "..     ...    ...\n",
       "440      0      1\n",
       "441      1      0\n",
       "442      1      0\n",
       "443      0      1\n",
       "444      1      0\n",
       "\n",
       "[445 rows x 2 columns]"
      ]
     },
     "execution_count": 64,
     "metadata": {},
     "output_type": "execute_result"
    }
   ],
   "source": [
    "_tmp"
   ]
  },
  {
   "cell_type": "markdown",
   "metadata": {},
   "source": [
    "### Label Encoder"
   ]
  },
  {
   "cell_type": "code",
   "execution_count": 67,
   "metadata": {},
   "outputs": [
    {
     "data": {
      "text/plain": [
       "array([0, 1, 1, 0, 0, 1, 1, 0, 1, 0, 0, 1, 0, 1, 0, 1, 1, 0, 1, 0, 0, 0,\n",
       "       0, 0, 1, 0, 1, 0, 1, 1, 1, 1, 1, 1, 1, 0, 1, 0, 1, 1, 0, 1, 1, 1,\n",
       "       1, 0, 1, 0, 1, 0, 1, 0, 1, 1, 0, 1, 1, 0, 1, 1, 0, 1, 1, 1, 1, 1,\n",
       "       0, 1, 1, 1, 1, 1, 0, 1, 1, 0, 1, 1, 1, 1, 1, 0, 1, 1, 1, 1, 0, 0,\n",
       "       1, 1, 0, 0, 1, 1, 0, 0, 1, 0, 1, 1, 1, 1, 1, 1, 0, 1, 1, 1, 1, 1,\n",
       "       1, 1, 1, 1, 1, 0, 1, 0, 1, 0, 0, 0, 0, 1, 1, 0, 1, 0, 0, 0, 1, 1,\n",
       "       1, 1, 1, 1, 1, 1, 0, 0, 0, 1, 1, 1, 0, 0, 1, 0, 1, 1, 0, 0, 1, 0,\n",
       "       1, 0, 0, 0, 1, 1, 1, 1, 1, 0, 1, 0, 1, 1, 1, 1, 0, 0, 1, 1, 0, 0,\n",
       "       1, 1, 1, 0, 1, 0, 0, 1, 0, 1, 0, 0, 0, 1, 1, 0, 1, 1, 1, 1, 1, 0,\n",
       "       0, 0, 1, 0, 0, 0, 1, 1, 0, 1, 0, 0, 1, 1, 1, 1, 0, 0, 1, 1, 1, 1,\n",
       "       1, 1, 1, 1, 1, 1, 0, 1, 0, 0, 1, 1, 0, 1, 1, 1, 0, 1, 0, 0, 1, 1,\n",
       "       1, 1, 1, 1, 1, 1, 1, 1, 0, 1, 0, 0, 0, 0, 1, 1, 0, 1, 1, 1, 1, 1,\n",
       "       0, 1, 0, 0, 1, 1, 1, 1, 1, 0, 1, 1, 0, 0, 1, 0, 1, 1, 1, 1, 1, 0,\n",
       "       0, 1, 1, 1, 1, 0, 1, 1, 1, 1, 1, 1, 0, 0, 1, 1, 1, 0, 1, 1, 1, 1,\n",
       "       1, 1, 1, 1, 1, 1, 1, 1, 0, 1, 0, 0, 1, 1, 1, 1, 1, 1, 1, 1, 1, 0,\n",
       "       1, 1, 0, 1, 1, 1, 1, 1, 0, 1, 0, 1, 1, 0, 1, 0, 1, 1, 1, 1, 1, 1,\n",
       "       0, 0, 1, 1, 1, 0, 0, 1, 1, 1, 0, 1, 1, 1, 1, 1, 1, 0, 1, 1, 1, 0,\n",
       "       1, 1, 1, 1, 0, 0, 0, 0, 1, 0, 1, 0, 1, 1, 0, 0, 0, 1, 1, 1, 1, 0,\n",
       "       1, 1, 1, 0, 1, 0, 1, 1, 1, 0, 1, 1, 1, 1, 1, 1, 0, 0, 1, 1, 0, 1,\n",
       "       1, 0, 1, 1, 1, 1, 0, 1, 0, 0, 0, 0, 0, 1, 1, 0, 0, 1, 1, 1, 0, 1,\n",
       "       1, 0, 0, 1, 0])"
      ]
     },
     "execution_count": 67,
     "metadata": {},
     "output_type": "execute_result"
    }
   ],
   "source": [
    "from sklearn.preprocessing import LabelEncoder\n",
    "le = LabelEncoder()\n",
    "\n",
    "le.fit(train['sex'])\n",
    "le.transform(train['sex'])"
   ]
  },
  {
   "cell_type": "markdown",
   "metadata": {},
   "source": [
    "## ビニング: 間隔設定"
   ]
  },
  {
   "cell_type": "code",
   "execution_count": 86,
   "metadata": {},
   "outputs": [
    {
     "data": {
      "text/plain": [
       "count    445.000000\n",
       "mean      33.959971\n",
       "std       52.079492\n",
       "min        0.000000\n",
       "25%        7.925000\n",
       "50%       15.000000\n",
       "75%       31.387500\n",
       "max      512.329200\n",
       "Name: fare, dtype: float64"
      ]
     },
     "execution_count": 86,
     "metadata": {},
     "output_type": "execute_result"
    }
   ],
   "source": [
    "train['fare'].describe()"
   ]
  },
  {
   "cell_type": "code",
   "execution_count": 87,
   "metadata": {},
   "outputs": [
    {
     "data": {
      "text/plain": [
       "0      (50, 513]\n",
       "1        (0, 10]\n",
       "2       (15, 50]\n",
       "3       (15, 50]\n",
       "4       (15, 50]\n",
       "         ...    \n",
       "440      (0, 10]\n",
       "441     (15, 50]\n",
       "442    (50, 513]\n",
       "443      (0, 10]\n",
       "444     (15, 50]\n",
       "Name: fare, Length: 445, dtype: category\n",
       "Categories (4, interval[int64]): [(0, 10] < (10, 15] < (15, 50] < (50, 513]]"
      ]
     },
     "execution_count": 87,
     "metadata": {},
     "output_type": "execute_result"
    }
   ],
   "source": [
    "pd.cut(train['fare'], [0, 10, 15, 50, 513])"
   ]
  },
  {
   "cell_type": "code",
   "execution_count": 101,
   "metadata": {},
   "outputs": [
    {
     "data": {
      "text/plain": [
       "0      Q1\n",
       "1      Q1\n",
       "2      Q1\n",
       "3      Q1\n",
       "4      Q1\n",
       "       ..\n",
       "440    Q1\n",
       "441    Q1\n",
       "442    Q1\n",
       "443    Q1\n",
       "444    Q1\n",
       "Name: fare, Length: 445, dtype: category\n",
       "Categories (4, object): ['Q1' < 'Q2' < 'Q3' < 'Q4']"
      ]
     },
     "execution_count": 101,
     "metadata": {},
     "output_type": "execute_result"
    }
   ],
   "source": [
    "s_cut = pd.cut(train['fare'], 4, labels=['Q1', 'Q2', 'Q3', 'Q4'])\n",
    "s_cut"
   ]
  },
  {
   "cell_type": "code",
   "execution_count": 99,
   "metadata": {},
   "outputs": [
    {
     "data": {
      "text/plain": [
       "<matplotlib.collections.PathCollection at 0x2da7d94f688>"
      ]
     },
     "execution_count": 99,
     "metadata": {},
     "output_type": "execute_result"
    },
    {
     "data": {
      "image/png": "[encoded data removed]",
      "text/plain": [
       "<Figure size 432x288 with 1 Axes>"
      ]
     },
     "metadata": {
      "needs_background": "light"
     },
     "output_type": "display_data"
    }
   ],
   "source": [
    "plt.scatter(train.index, train['fare'])"
   ]
  },
  {
   "cell_type": "code",
   "execution_count": 102,
   "metadata": {},
   "outputs": [
    {
     "data": {
      "text/plain": [
       "<matplotlib.collections.PathCollection at 0x2da7dae8508>"
      ]
     },
     "execution_count": 102,
     "metadata": {},
     "output_type": "execute_result"
    },
    {
     "data": {
      "image/png": "[encoded data removed]",
      "text/plain": [
       "<Figure size 432x288 with 1 Axes>"
      ]
     },
     "metadata": {
      "needs_background": "light"
     },
     "output_type": "display_data"
    }
   ],
   "source": [
    "plt.scatter(train.index, s_cut)"
   ]
  },
  {
   "cell_type": "markdown",
   "metadata": {},
   "source": [
    "## 日付加工"
   ]
  },
  {
   "cell_type": "code",
   "execution_count": 103,
   "metadata": {},
   "outputs": [],
   "source": [
    "date = '2020-09-06'"
   ]
  },
  {
   "cell_type": "code",
   "execution_count": 107,
   "metadata": {},
   "outputs": [
    {
     "data": {
      "text/plain": [
       "('2020', '09', '06')"
      ]
     },
     "execution_count": 107,
     "metadata": {},
     "output_type": "execute_result"
    }
   ],
   "source": [
    "year, month, day = date.split('-')\n",
    "year, month, day"
   ]
  }
 ],
 "metadata": {
  "kernelspec": {
   "display_name": "Python 3",
   "language": "python",
   "name": "python3"
  },
  "language_info": {
   "codemirror_mode": {
    "name": "ipython",
    "version": 3
   },
   "file_extension": ".py",
   "mimetype": "text/x-python",
   "name": "python",
   "nbconvert_exporter": "python",
   "pygments_lexer": "ipython3",
   "version": "3.7.6"
  }
 },
 "nbformat": 4,
 "nbformat_minor": 4
}
